{
  "nbformat": 4,
  "nbformat_minor": 0,
  "metadata": {
    "colab": {
      "name": "Exerdcise19.ipynb",
      "provenance": [],
      "authorship_tag": "ABX9TyOKECLaYw3QpoqTk1I/vH8Q",
      "include_colab_link": true
    },
    "kernelspec": {
      "name": "python3",
      "display_name": "Python 3"
    }
  },
  "cells": [
    {
      "cell_type": "markdown",
      "metadata": {
        "id": "view-in-github",
        "colab_type": "text"
      },
      "source": [
        "<a href=\"https://colab.research.google.com/github/avgode/PythonExercises/blob/master/Exerdcise19.ipynb\" target=\"_parent\"><img src=\"https://colab.research.google.com/assets/colab-badge.svg\" alt=\"Open In Colab\"/></a>"
      ]
    },
    {
      "cell_type": "code",
      "metadata": {
        "id": "mxKT-msLH13R",
        "colab_type": "code",
        "colab": {
          "base_uri": "https://localhost:8080/",
          "height": 629
        },
        "outputId": "28ae2661-1103-4b8e-b0bd-c26da3da75f1"
      },
      "source": [
        "amount_of_cheese = 10\n",
        "amount_of_crackers = 50\n",
        "cracker_box = 100\n",
        "\n",
        "def cheese_and_crackers(cheese_count, boxes_of_crackers):\n",
        "  cracker_box = 10\n",
        "  print(f\"You have {cheese_count} cheeses!\")\n",
        "  print(f\"You have {boxes_of_crackers} boxes of crackers!\")\n",
        "  print(f\"Is {amount_of_cheese} equal to {cheese_count}\")\n",
        "  # takes local value since local assignment\n",
        "  print(\"Cracker boxes:\",cracker_box)\n",
        "  print(\"Man that's enough for a party!\")\n",
        "  print(\"Get a blanket.\\n\")\n",
        "\n",
        "# You can add multiple _ pre, in middle or post of function name\n",
        "def __cracker__boxes_():\n",
        "  cracker_box\n",
        "  # takes global value since no local assignment\n",
        "  print(\"Cracker boxes in crackers:\",cracker_box) \n",
        "\n",
        "print(\"We can just give the function numbers directly:\")\n",
        "cheese_and_crackers(20, 30)\n",
        "\n",
        "print(\"Cracker boxes global value:\",cracker_box) # takes global value\n",
        "print(\"OR, we can use variables from our script:\")\n",
        "\n",
        "cheese_and_crackers(amount_of_cheese, amount_of_crackers)\n",
        "\n",
        "print(\"We can even do math inside too:\")\n",
        "cheese_and_crackers(10 + 20, 5 + 6)\n",
        "\n",
        "print(\"And we can combine the two, variables and math:\")\n",
        "cheese_and_crackers(amount_of_cheese + 100, amount_of_crackers)\n",
        "\n",
        "print(\"And we call just cracker boxes:\")\n",
        "__cracker__boxes_()"
      ],
      "execution_count": 24,
      "outputs": [
        {
          "output_type": "stream",
          "text": [
            "We can just give the function numbers directly:\n",
            "You have 20 cheeses!\n",
            "You have 30 boxes of crackers!\n",
            "Is 10 equal to 20\n",
            "Cracker boxes: 10\n",
            "Man that's enough for a party!\n",
            "Get a blanket.\n",
            "\n",
            "Cracker boxes global value: 100\n",
            "OR, we can use variables from our script:\n",
            "You have 10 cheeses!\n",
            "You have 50 boxes of crackers!\n",
            "Is 10 equal to 10\n",
            "Cracker boxes: 10\n",
            "Man that's enough for a party!\n",
            "Get a blanket.\n",
            "\n",
            "We can even do math inside too:\n",
            "You have 30 cheeses!\n",
            "You have 11 boxes of crackers!\n",
            "Is 10 equal to 30\n",
            "Cracker boxes: 10\n",
            "Man that's enough for a party!\n",
            "Get a blanket.\n",
            "\n",
            "And we can combine the two, variables and math:\n",
            "You have 110 cheeses!\n",
            "You have 50 boxes of crackers!\n",
            "Is 10 equal to 110\n",
            "Cracker boxes: 10\n",
            "Man that's enough for a party!\n",
            "Get a blanket.\n",
            "\n",
            "And we call just cracker boxes:\n",
            "Cracker boxes in crackers: 100\n",
            "ERROR! Session/line number was not unique in database. History logging moved to new session 63\n"
          ],
          "name": "stdout"
        }
      ]
    }
  ]
}