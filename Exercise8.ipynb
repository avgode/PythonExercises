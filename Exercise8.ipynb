{
  "nbformat": 4,
  "nbformat_minor": 0,
  "metadata": {
    "colab": {
      "name": "Exercise8.ipynb",
      "provenance": [],
      "authorship_tag": "ABX9TyNZCAdq/ueVIu0pDaQxe2Iv",
      "include_colab_link": true
    },
    "kernelspec": {
      "name": "python3",
      "display_name": "Python 3"
    }
  },
  "cells": [
    {
      "cell_type": "markdown",
      "metadata": {
        "id": "view-in-github",
        "colab_type": "text"
      },
      "source": [
        "<a href=\"https://colab.research.google.com/github/avgode/PythonExercises/blob/master/Exercise8.ipynb\" target=\"_parent\"><img src=\"https://colab.research.google.com/assets/colab-badge.svg\" alt=\"Open In Colab\"/></a>"
      ]
    },
    {
      "cell_type": "code",
      "metadata": {
        "id": "XOzDPb1yxySG",
        "colab_type": "code",
        "colab": {
          "base_uri": "https://localhost:8080/",
          "height": 102
        },
        "outputId": "6b6231fd-a89e-4506-d792-5effee0eb922"
      },
      "source": [
        "formatter = \"{} {} {} {}\"\n",
        "\n",
        "print(formatter.format(1, 2, 3, 4))\n",
        "print(formatter.format(\"one\", \"two\", \"three\", 4))\n",
        "print(formatter.format(True, False, False, True))\n",
        "print(formatter.format(formatter, formatter, formatter, formatter))\n",
        "print(formatter.format(\n",
        "    \"Try your\", \n",
        "    \"Own text here\", \n",
        "    \"May be a poem\", \n",
        "    \"Or a song about fear\"\n",
        "))"
      ],
      "execution_count": 4,
      "outputs": [
        {
          "output_type": "stream",
          "text": [
            "1 2 3 4\n",
            "one two three 4\n",
            "True False False True\n",
            "{} {} {} {} {} {} {} {} {} {} {} {} {} {} {} {}\n",
            "Try your Own text here May be a poem Or a song about fear\n"
          ],
          "name": "stdout"
        }
      ]
    }
  ]
}