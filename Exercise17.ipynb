{
  "nbformat": 4,
  "nbformat_minor": 0,
  "metadata": {
    "colab": {
      "name": "Exercise17.ipynb",
      "provenance": [],
      "authorship_tag": "ABX9TyPr799uumgv4Slc+LvU/bDo",
      "include_colab_link": true
    },
    "kernelspec": {
      "name": "python3",
      "display_name": "Python 3"
    }
  },
  "cells": [
    {
      "cell_type": "markdown",
      "metadata": {
        "id": "view-in-github",
        "colab_type": "text"
      },
      "source": [
        "<a href=\"https://colab.research.google.com/github/avgode/PythonExercises/blob/master/Exercise17.ipynb\" target=\"_parent\"><img src=\"https://colab.research.google.com/assets/colab-badge.svg\" alt=\"Open In Colab\"/></a>"
      ]
    },
    {
      "cell_type": "code",
      "metadata": {
        "id": "UNLJVC0qCDoc",
        "colab_type": "code",
        "colab": {
          "base_uri": "https://localhost:8080/",
          "height": 238
        },
        "outputId": "4eea437b-661f-4e44-de70-1f48513e6037"
      },
      "source": [
        "# from sys import argv\n",
        "from os.path import exists\n",
        "\n",
        "# script, from_file, to_file = argv\n",
        "\n",
        "from_file = input(\"Enter name of file from which you want to copy the contents\")\n",
        "to_file = input(\"Enter name of file to which you want to write the contents\")\n",
        "\n",
        "print(f\"Copying from {from_file} to {to_file}\")\n",
        "# we could do these two on one line, how?\n",
        "in_file = open(from_file)\n",
        "indata = in_file.read()\n",
        "\n",
        "print(f\"The input file is {len(indata)} bytes long\")\n",
        "\n",
        "print(f\"Does the output file exist? {exists(to_file)}\")\n",
        "print(\"Ready, hit RETURN to continue, CTRL-D to abort.\")\n",
        "input()\n",
        "out_file = open(to_file, 'w+'); out_file.write(indata)\n",
        "\n",
        "print(\"Read the contents from copied file:\")\n",
        "out_file.seek(0)\n",
        "print(out_file.read())\n",
        "\n",
        "print(\"Alright, all done.\")\n",
        "out_file.close()\n",
        "in_file.close()"
      ],
      "execution_count": 4,
      "outputs": [
        {
          "output_type": "stream",
          "text": [
            "Enter name of file from which you want to copy the contentsEx17.txt\n",
            "Enter name of file to which you want to write the contentsEx17_to.txt\n",
            "Copying from Ex17.txt to Ex17_to.txt\n",
            "The input file is 99 bytes long\n",
            "Does the output file exist? True\n",
            "Ready, hit RETURN to continue, CTRL-D to abort.\n",
            "\n",
            "Read the contents from copied file:\n",
            "This is stuff I typed into a file. \n",
            "It is really cool stuff.\n",
            "Lots and lots of fun to have in here.\n",
            "\n",
            "Alright, all done.\n"
          ],
          "name": "stdout"
        }
      ]
    }
  ]
}