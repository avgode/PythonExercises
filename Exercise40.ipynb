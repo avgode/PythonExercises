{
  "nbformat": 4,
  "nbformat_minor": 0,
  "metadata": {
    "colab": {
      "name": "Exercise40.ipynb",
      "provenance": [],
      "authorship_tag": "ABX9TyOzv62u7hQsT/HHZPjmjp45",
      "include_colab_link": true
    },
    "kernelspec": {
      "name": "python3",
      "display_name": "Python 3"
    }
  },
  "cells": [
    {
      "cell_type": "markdown",
      "metadata": {
        "id": "view-in-github",
        "colab_type": "text"
      },
      "source": [
        "<a href=\"https://colab.research.google.com/github/avgode/PythonExercises/blob/master/Exercise40.ipynb\" target=\"_parent\"><img src=\"https://colab.research.google.com/assets/colab-badge.svg\" alt=\"Open In Colab\"/></a>"
      ]
    },
    {
      "cell_type": "code",
      "metadata": {
        "id": "orpGteale0OA",
        "colab_type": "code",
        "colab": {
          "base_uri": "https://localhost:8080/",
          "height": 34
        },
        "outputId": "1a510887-1623-4203-b5bb-76c551825513"
      },
      "source": [
        "mystuff = {'apple': \"I AM APPLES!\"} \n",
        "print(mystuff['apple'])"
      ],
      "execution_count": 1,
      "outputs": [
        {
          "output_type": "stream",
          "text": [
            "I AM APPLES!\n"
          ],
          "name": "stdout"
        }
      ]
    },
    {
      "cell_type": "code",
      "metadata": {
        "id": "1dr6zDmofrK2",
        "colab_type": "code",
        "colab": {}
      },
      "source": [
        "# this goes in mystuff.py\n",
        "def apple():\n",
        "  print(\"I AM APPLES!\")\n",
        "\n",
        "# this is just a variable\n",
        "tangerine = \"Living reflection of a dream\""
      ],
      "execution_count": 0,
      "outputs": []
    },
    {
      "cell_type": "code",
      "metadata": {
        "id": "G0tdFZAlgAvR",
        "colab_type": "code",
        "colab": {}
      },
      "source": [
        "#import mystuff\n",
        "\n",
        "# mystuff.apple()\n",
        "# print(mystuff.tangerine)"
      ],
      "execution_count": 0,
      "outputs": []
    },
    {
      "cell_type": "code",
      "metadata": {
        "id": "MfObyubFgvUL",
        "colab_type": "code",
        "colab": {}
      },
      "source": [
        "class MyStuff(object):\n",
        "\n",
        "  def __init__(self):\n",
        "    self.tangerine = \"And now a thousand years between\"\n",
        "  \n",
        "  def apple(self):\n",
        "    print(\"I AM CLASSY APPLES!\")"
      ],
      "execution_count": 0,
      "outputs": []
    },
    {
      "cell_type": "code",
      "metadata": {
        "id": "t2xtAvrKg4rt",
        "colab_type": "code",
        "colab": {
          "base_uri": "https://localhost:8080/",
          "height": 51
        },
        "outputId": "23f65537-d9e6-4872-eafd-0b6d24f8d63a"
      },
      "source": [
        "thing = MyStuff()\n",
        "thing.apple()\n",
        "print(thing.tangerine)"
      ],
      "execution_count": 12,
      "outputs": [
        {
          "output_type": "stream",
          "text": [
            "I AM CLASSY APPLES!\n",
            "And now a thousand years between\n"
          ],
          "name": "stdout"
        }
      ]
    },
    {
      "cell_type": "code",
      "metadata": {
        "id": "hVDWh2iuhyiP",
        "colab_type": "code",
        "colab": {
          "base_uri": "https://localhost:8080/",
          "height": 102
        },
        "outputId": "b72006d5-47c3-4525-ae8d-7e5f8b836632"
      },
      "source": [
        "class Song(object):\n",
        "  def __init__(self, lyrics): \n",
        "    self.lyrics = lyrics\n",
        "  \n",
        "  def sing_me_a_song(self): \n",
        "    for line in self.lyrics:\n",
        "      print(line)\n",
        "\n",
        "happy_bday = Song([\"Happy birthday to you\", \"I don't want to get sued\",\n",
        "                   \"So I'll stop right there\"])\n",
        "\n",
        "bulls_on_parade = Song([\"They rally around tha family\", \n",
        "                        \"With pockets full of shells\"])\n",
        "\n",
        "happy_bday.sing_me_a_song() \n",
        "\n",
        "bulls_on_parade.sing_me_a_song()"
      ],
      "execution_count": 13,
      "outputs": [
        {
          "output_type": "stream",
          "text": [
            "Happy birthday to you\n",
            "I don't want to get sued\n",
            "So I'll stop right there\n",
            "They rally around tha family\n",
            "With pockets full of shells\n"
          ],
          "name": "stdout"
        }
      ]
    }
  ]
}