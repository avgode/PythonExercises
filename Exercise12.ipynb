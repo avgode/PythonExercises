{
  "nbformat": 4,
  "nbformat_minor": 0,
  "metadata": {
    "colab": {
      "name": "Exercise12.ipynb",
      "provenance": [],
      "authorship_tag": "ABX9TyOR5PepnGftRO/0LNkKWkc2",
      "include_colab_link": true
    },
    "kernelspec": {
      "name": "python3",
      "display_name": "Python 3"
    }
  },
  "cells": [
    {
      "cell_type": "markdown",
      "metadata": {
        "id": "view-in-github",
        "colab_type": "text"
      },
      "source": [
        "<a href=\"https://colab.research.google.com/github/avgode/PythonExercises/blob/master/Exercise12.ipynb\" target=\"_parent\"><img src=\"https://colab.research.google.com/assets/colab-badge.svg\" alt=\"Open In Colab\"/></a>"
      ]
    },
    {
      "cell_type": "code",
      "metadata": {
        "id": "IcZbd2fz8T67",
        "colab_type": "code",
        "colab": {
          "base_uri": "https://localhost:8080/",
          "height": 85
        },
        "outputId": "1ba5959f-d612-4867-b4a0-166b44109a5f"
      },
      "source": [
        "age = input(\"How old are you? \")\n",
        "height = input(\"How tall are you? \")\n",
        "weight = float(input(\"How much do you weigh? \"))\n",
        "\n",
        "print(f\"So, you're {age} old, {height} tall and {round(weight * 0.453592,0)} heavy\");"
      ],
      "execution_count": 3,
      "outputs": [
        {
          "output_type": "stream",
          "text": [
            "How old are you? 37\n",
            "How tall are you? 187\n",
            "How much do you weigh? 178\n",
            "So, you're 37 old, 187 tall and 81.0 heavy\n"
          ],
          "name": "stdout"
        }
      ]
    },
    {
      "cell_type": "code",
      "metadata": {
        "id": "BlbrlH2T9ejH",
        "colab_type": "code",
        "colab": {
          "base_uri": "https://localhost:8080/",
          "height": 51
        },
        "outputId": "d9c12ef5-ab2a-46f6-df73-51d868fe1711"
      },
      "source": [
        "print(\"How old are you?\", input())"
      ],
      "execution_count": 10,
      "outputs": [
        {
          "output_type": "stream",
          "text": [
            "10\n",
            "How old are you? 10\n"
          ],
          "name": "stdout"
        }
      ]
    },
    {
      "cell_type": "code",
      "metadata": {
        "id": "GD706T2Q9sjX",
        "colab_type": "code",
        "colab": {
          "base_uri": "https://localhost:8080/",
          "height": 51
        },
        "outputId": "9b61589a-66a2-485b-8a3a-19791281b638"
      },
      "source": [
        "print(\"How old are you? {}\".format(input()))"
      ],
      "execution_count": 11,
      "outputs": [
        {
          "output_type": "stream",
          "text": [
            "5\n",
            "How old are you? 5\n"
          ],
          "name": "stdout"
        }
      ]
    },
    {
      "cell_type": "code",
      "metadata": {
        "id": "A0fRqKzy95Si",
        "colab_type": "code",
        "colab": {
          "base_uri": "https://localhost:8080/",
          "height": 51
        },
        "outputId": "a2927522-eb31-4b19-ea18-1192d18cc051"
      },
      "source": [
        "print(f\"How old are you? {input()}\")"
      ],
      "execution_count": 12,
      "outputs": [
        {
          "output_type": "stream",
          "text": [
            "10\n",
            "How old are you? 10\n"
          ],
          "name": "stdout"
        }
      ]
    }
  ]
}