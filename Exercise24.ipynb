{
  "nbformat": 4,
  "nbformat_minor": 0,
  "metadata": {
    "colab": {
      "name": "Exercise24.ipynb",
      "provenance": [],
      "authorship_tag": "ABX9TyMCdQ8sOIqL0uIIXu7Ifx+l",
      "include_colab_link": true
    },
    "kernelspec": {
      "name": "python3",
      "display_name": "Python 3"
    }
  },
  "cells": [
    {
      "cell_type": "markdown",
      "metadata": {
        "id": "view-in-github",
        "colab_type": "text"
      },
      "source": [
        "<a href=\"https://colab.research.google.com/github/avgode/PythonExercises/blob/master/Exercise24.ipynb\" target=\"_parent\"><img src=\"https://colab.research.google.com/assets/colab-badge.svg\" alt=\"Open In Colab\"/></a>"
      ]
    },
    {
      "cell_type": "code",
      "metadata": {
        "id": "J3hQ5Stq9eBL",
        "colab_type": "code",
        "colab": {
          "base_uri": "https://localhost:8080/",
          "height": 374
        },
        "outputId": "d208459e-6599-473a-c436-82fee8e30745"
      },
      "source": [
        "print(\"Let's practice everything.\")\n",
        "print('You\\'d need to know \\'bout escapes with \\\\ that do:')\n",
        "print('\\n newlines and \\t tabs.')\n",
        "\n",
        "poem = \"\"\"\n",
        "\\tThe lovely world\n",
        "with logic so firmly planted\n",
        "cannot discern \\n the needs of love\n",
        "nor comprehend passion from intuition\n",
        "and requires an explanation\n",
        "\\n\\t\\twhere there is none.\n",
        "\"\"\"\n",
        "print(\"-\" * 100) \n",
        "print(poem)\n",
        "print(\"-\" * 100)\n",
        "\n",
        "five = 10 - 2 + 3 - 6\n",
        "print(f\"This should be five: {five}\")\n",
        "\n",
        "def secret_formula(started):\n",
        "  jelly_beans = started * 500\n",
        "  jars = jelly_beans / 1000\n",
        "  crates = jars / 100\n",
        "  return jelly_beans, jars, crates\n",
        "\n",
        "start_point = 10000\n",
        "beans, jars, crates = secret_formula(start_point)\n",
        "\n",
        "# remember that this is another way to format a string\n",
        "print(\"With a starting point of: {}\".format(start_point))\n",
        "# it's just like with an f\"\" string\n",
        "print(f\"We'd have {beans} beans, {jars} jars, and {crates} crates.\")\n",
        "\n",
        "start_point = start_point / 10\n",
        "\n",
        "print(\"We can also do that this way:\")\n",
        "formula = secret_formula(start_point)\n",
        "# this is an easy way to apply a list to a format string\n",
        "print(\"We'd have {} beans, {} jars, and {} crates.\".format(*formula))\n"
      ],
      "execution_count": 10,
      "outputs": [
        {
          "output_type": "stream",
          "text": [
            "Let's practice everything.\n",
            "You'd need to know 'bout escapes with \\ that do:\n",
            "\n",
            " newlines and \t tabs.\n",
            "----------------------------------------------------------------------------------------------------\n",
            "\n",
            "\tThe lovely world\n",
            "with logic so firmly planted\n",
            "cannot discern \n",
            " the needs of love\n",
            "nor comprehend passion from intuition\n",
            "and requires an explanation\n",
            "\n",
            "\t\twhere there is none.\n",
            "\n",
            "----------------------------------------------------------------------------------------------------\n",
            "This should be five: 5\n",
            "With a starting point of: 10000\n",
            "We'd have 5000000 beans, 5000.0 jars, and 50.0 crates.\n",
            "We can also do that this way:\n",
            "We'd have 500000.0 beans, 500.0 jars, and 5.0 crates.\n"
          ],
          "name": "stdout"
        }
      ]
    }
  ]
}