{
  "nbformat": 4,
  "nbformat_minor": 0,
  "metadata": {
    "colab": {
      "name": "Exercise42.ipynb",
      "provenance": [],
      "authorship_tag": "ABX9TyPfa5lOvxxVwwAohCl6i3hr",
      "include_colab_link": true
    },
    "kernelspec": {
      "name": "python3",
      "display_name": "Python 3"
    }
  },
  "cells": [
    {
      "cell_type": "markdown",
      "metadata": {
        "id": "view-in-github",
        "colab_type": "text"
      },
      "source": [
        "<a href=\"https://colab.research.google.com/github/avgode/PythonExercises/blob/master/Exercise42.ipynb\" target=\"_parent\"><img src=\"https://colab.research.google.com/assets/colab-badge.svg\" alt=\"Open In Colab\"/></a>"
      ]
    },
    {
      "cell_type": "code",
      "metadata": {
        "id": "bNzMXZzByGV9",
        "colab_type": "code",
        "colab": {}
      },
      "source": [
        "## Animal is-a object (yes, sort of confusing) look at the extra\n",
        "class Animal(object):\n",
        "  pass\n",
        "\n",
        "## Dog is-a Aniaml\n",
        "class Dog(Animal):\n",
        "    def __init__(self, name):\n",
        "      ## Dog has-a name\n",
        "      self.name = name\n",
        "\n",
        "## Cat is-a animal\n",
        "class Cat(Animal):\n",
        "    def __init__(self, name):\n",
        "      ## Cat has-a name\n",
        "      self.name = name\n",
        "\n",
        "## Person is-a object\n",
        "class Person(object):\n",
        "    def __init__(self, name):\n",
        "      ## Person has-a name\n",
        "      self.name = name\n",
        "\n",
        "      ## Person has-a pet of some kind \n",
        "      self.pet = None\n",
        "\n",
        "## Employee is-a Person\n",
        "class Employee(Person):\n",
        "\n",
        "  def __init__(self, name, salary):\n",
        "    ## Invoking the init method of super class i.e. Person class\n",
        "    super(Employee, self).__init__(name) ## ??\n",
        "    self.salary = salary\n",
        "\n",
        "## Fish is-a object\n",
        "class Fish(object):\n",
        "  pass\n",
        "\n",
        "## Salmon is-a Fish\n",
        "class Salmon(Fish):\n",
        "  pass\n",
        "\n",
        "## Halibut is-a Fish\n",
        "class Halibut(Fish):\n",
        "  pass\n",
        "\n",
        "## rover is-a Dog\n",
        "rover = Dog(\"Rover\")\n",
        "\n",
        "## satan is-a Cat\n",
        "satan = Cat(\"Satan\")\n",
        "\n",
        "## mary is-a Person\n",
        "mary = Person(\"Mary\")\n",
        "\n",
        "## mary has-a pet called satan\n",
        "mary.pet = satan\n",
        "\n",
        "## frank is-a Employee\n",
        "frank = Employee(\"Frank\", 120000)\n",
        "\n",
        "## frank has-a pet called rover\n",
        "frank.pet = rover\n",
        "\n",
        "## flipper is-a Fish\n",
        "flipper = Fish()\n",
        "\n",
        "## crouse is-a Salmon\n",
        "crouse = Salmon()\n",
        "\n",
        "## harry is-a Halibut\n",
        "harry = Halibut()"
      ],
      "execution_count": 0,
      "outputs": []
    }
  ]
}