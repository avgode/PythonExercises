{
  "nbformat": 4,
  "nbformat_minor": 0,
  "metadata": {
    "colab": {
      "name": "Exercise30.ipynb",
      "provenance": [],
      "authorship_tag": "ABX9TyPpkvfPbuRdzpCUOAT5f3Pt",
      "include_colab_link": true
    },
    "kernelspec": {
      "name": "python3",
      "display_name": "Python 3"
    }
  },
  "cells": [
    {
      "cell_type": "markdown",
      "metadata": {
        "id": "view-in-github",
        "colab_type": "text"
      },
      "source": [
        "<a href=\"https://colab.research.google.com/github/avgode/PythonExercises/blob/master/Exercise30.ipynb\" target=\"_parent\"><img src=\"https://colab.research.google.com/assets/colab-badge.svg\" alt=\"Open In Colab\"/></a>"
      ]
    },
    {
      "cell_type": "code",
      "metadata": {
        "id": "gN1IKjuOLwy7",
        "colab_type": "code",
        "colab": {
          "base_uri": "https://localhost:8080/",
          "height": 68
        },
        "outputId": "c23a591b-22cc-4ae8-a902-1322caa28149"
      },
      "source": [
        "people = 30 \n",
        "cars = 40 \n",
        "trucks = 15\n",
        "\n",
        "if cars > people:\n",
        "  print(\"We should take the cars.\")\n",
        "elif cars < people:\n",
        "  print(\"We should not take the cars.\")\n",
        "else:\n",
        "  print(\"We can't decide.\")\n",
        "  \n",
        "if trucks > cars:\n",
        "  print(\"That's too many trucks.\")\n",
        "elif trucks < cars:\n",
        "  print(\"Maybe we could take the trucks.\") \n",
        "else:\n",
        "  print(\"We still can't decide.\")\n",
        "\n",
        "if people > trucks:\n",
        "    print(\"Alright, let's just take the trucks.\")\n",
        "else:\n",
        "  print(\"Fine, let's stay home then.\")\n"
      ],
      "execution_count": 6,
      "outputs": [
        {
          "output_type": "stream",
          "text": [
            "We should take the cars.\n",
            "Maybe we could take the trucks.\n",
            "Alright, let's just take the trucks.\n"
          ],
          "name": "stdout"
        }
      ]
    }
  ]
}