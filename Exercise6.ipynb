{
  "nbformat": 4,
  "nbformat_minor": 0,
  "metadata": {
    "colab": {
      "name": "Exercise6.ipynb",
      "provenance": [],
      "authorship_tag": "ABX9TyN631clhLJ4pKYnGMc+XTDU",
      "include_colab_link": true
    },
    "kernelspec": {
      "name": "python3",
      "display_name": "Python 3"
    }
  },
  "cells": [
    {
      "cell_type": "markdown",
      "metadata": {
        "id": "view-in-github",
        "colab_type": "text"
      },
      "source": [
        "<a href=\"https://colab.research.google.com/github/avgode/PythonExercises/blob/master/Exercise6.ipynb\" target=\"_parent\"><img src=\"https://colab.research.google.com/assets/colab-badge.svg\" alt=\"Open In Colab\"/></a>"
      ]
    },
    {
      "cell_type": "code",
      "metadata": {
        "id": "MMIC_Km2qeUI",
        "colab_type": "code",
        "colab": {
          "base_uri": "https://localhost:8080/",
          "height": 119
        },
        "outputId": "c82c9ef3-87e7-46bf-a5c8-78a9465a2a10"
      },
      "source": [
        "types_of_people = 10\n",
        "x = f\"There are {types_of_people} types of people.\"\n",
        "\n",
        "binary = \"binary\"\n",
        "do_not = \"don't\"\n",
        "y = f\"Those who know {binary} and those who {do_not}.\"\n",
        "\n",
        "print(x)\n",
        "print(y)\n",
        "\n",
        "print(f\"I said: {x}\")\n",
        "print(f\"I also said: '{y}'\")\n",
        "\n",
        "hilarious = True\n",
        "joke_evaluation = \"Isn't that joke so funny?! {}\"\n",
        "\n",
        "print(joke_evaluation.format(hilarious))\n",
        "\n",
        "w = \"This is the left side of...\"\n",
        "e = \"a string with a right side.\"\n",
        "\n",
        "print(w + e) # String concatenation"
      ],
      "execution_count": 3,
      "outputs": [
        {
          "output_type": "stream",
          "text": [
            "There are 10 types of people.\n",
            "Those who know binary and those who don't.\n",
            "I said: There are 10 types of people.\n",
            "I also said: 'Those who know binary and those who don't.'\n",
            "Isn't that joke so funny?! True\n",
            "This is the left side of...a string with a right side.\n"
          ],
          "name": "stdout"
        }
      ]
    },
    {
      "cell_type": "code",
      "metadata": {
        "id": "vs3KnbfNtrzn",
        "colab_type": "code",
        "colab": {}
      },
      "source": [
        "(()"
      ],
      "execution_count": 0,
      "outputs": []
    }
  ]
}