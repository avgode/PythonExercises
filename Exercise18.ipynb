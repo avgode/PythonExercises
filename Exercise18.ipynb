{
  "nbformat": 4,
  "nbformat_minor": 0,
  "metadata": {
    "colab": {
      "name": "Exercise18.ipynb",
      "provenance": [],
      "authorship_tag": "ABX9TyNHvtYmP9sLN+71fguGMdNr",
      "include_colab_link": true
    },
    "kernelspec": {
      "name": "python3",
      "display_name": "Python 3"
    }
  },
  "cells": [
    {
      "cell_type": "markdown",
      "metadata": {
        "id": "view-in-github",
        "colab_type": "text"
      },
      "source": [
        "<a href=\"https://colab.research.google.com/github/avgode/PythonExercises/blob/master/Exercise18.ipynb\" target=\"_parent\"><img src=\"https://colab.research.google.com/assets/colab-badge.svg\" alt=\"Open In Colab\"/></a>"
      ]
    },
    {
      "cell_type": "code",
      "metadata": {
        "id": "0_H0PHrDGyUF",
        "colab_type": "code",
        "colab": {
          "base_uri": "https://localhost:8080/",
          "height": 85
        },
        "outputId": "30481461-0a48-4d7a-8df6-835364ffac73"
      },
      "source": [
        "# this one is like your scripts with argv\n",
        "def print_two(*args):\n",
        "  arg1, arg2 = args\n",
        "  print(f\"arg1: {arg1}, arg2: {arg2}\")\n",
        "\n",
        "# ok, that *args is actually pointless, we can just do this\n",
        "def print_two_again(arg1, arg2):\n",
        "    print(f\"arg1: {arg1}, arg2: {arg2}\")\n",
        "\n",
        "# this just takes one argument\n",
        "def print_one(arg1):\n",
        "    print(f\"arg1: {arg1}\")\n",
        "\n",
        "# this one takes no arguments\n",
        "def print_none():\n",
        "   print(\"I got nothin'.\")\n",
        "\n",
        "print_two(\"Zed\",\"Shaw\")\n",
        "print_two_again(\"Zed\",\"Shaw\")\n",
        "# You can write multiple command in single line by closing previous command by ;\n",
        "print_one(\"First!\"); print_none()"
      ],
      "execution_count": 4,
      "outputs": [
        {
          "output_type": "stream",
          "text": [
            "arg1: Zed, arg2: Shaw\n",
            "arg1: Zed, arg2: Shaw\n",
            "arg1: First!\n",
            "I got nothin'.\n"
          ],
          "name": "stdout"
        }
      ]
    }
  ]
}