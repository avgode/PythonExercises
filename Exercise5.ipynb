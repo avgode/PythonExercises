{
  "nbformat": 4,
  "nbformat_minor": 0,
  "metadata": {
    "colab": {
      "name": "Exercise5.ipynb",
      "provenance": [],
      "authorship_tag": "ABX9TyMaLZRK5sLLuemWvIdAHDwu",
      "include_colab_link": true
    },
    "kernelspec": {
      "name": "python3",
      "display_name": "Python 3"
    }
  },
  "cells": [
    {
      "cell_type": "markdown",
      "metadata": {
        "id": "view-in-github",
        "colab_type": "text"
      },
      "source": [
        "<a href=\"https://colab.research.google.com/github/avgode/PythonExercises/blob/master/Exercise5.ipynb\" target=\"_parent\"><img src=\"https://colab.research.google.com/assets/colab-badge.svg\" alt=\"Open In Colab\"/></a>"
      ]
    },
    {
      "cell_type": "code",
      "metadata": {
        "id": "hOi_2yIxh8lf",
        "colab_type": "code",
        "colab": {
          "base_uri": "https://localhost:8080/",
          "height": 170
        },
        "outputId": "94dce7c9-6484-4e81-b656-653516c6cfb4"
      },
      "source": [
        "my_name = 'Zed A. Shaw'\n",
        "my_age = 35 \n",
        "height = int(input(\"Height in cms: \")) # cms\n",
        "weight = float(input(\"Weight in kgs: \")) # kgs\n",
        "my_eyes = 'Blue'\n",
        "my_teeth = 'White'\n",
        "my_hair = 'Brown'\n",
        "\n",
        "my_height = round(height / 2.54, 1)\n",
        "my_weight = round(weight / 0.453592, 0)\n",
        " \n",
        "\n",
        "print(f\"let's talk about {my_name}.\")\n",
        "print(f\"He's {my_height} inches tall.\")\n",
        "print(f\"He's {my_weight} pounds heavy.\")\n",
        "print(\"Actually that's not to heavy.\")\n",
        "print(f\"He's got {my_eyes} eyes and {my_hair} hair.\")\n",
        "print(f\"His teetch are usually {my_teeth} depending on the coffee\")\n",
        "\n",
        "total = my_age + my_height + my_weight\n",
        "print(f\"If I add {my_age}, {my_height} and {my_weight} I get {total}\")"
      ],
      "execution_count": 39,
      "outputs": [
        {
          "output_type": "stream",
          "text": [
            "Height in cms: 189\n",
            "Weight in kgs: 80.1\n",
            "let's talk about Zed A. Shaw.\n",
            "He's 74.4 inches tall.\n",
            "He's 177.0 pounds heavy.\n",
            "Actually that's not to heavy.\n",
            "He's got Blue eyes and Brown hair.\n",
            "His teetch are usually White depending on the coffee\n",
            "If I add 35, 74.4 and 177.0 I get 286.4\n"
          ],
          "name": "stdout"
        }
      ]
    },
    {
      "cell_type": "code",
      "metadata": {
        "id": "X_WYtHGbmMrb",
        "colab_type": "code",
        "colab": {
          "base_uri": "https://localhost:8080/",
          "height": 85
        },
        "outputId": "5bdbeb0f-a40e-49e2-b362-92de44a7f190"
      },
      "source": [
        "print(\"Input your height: \")\n",
        "h_ft = float(input(\"Feet: \"))\n",
        "h_inch = int(input(\"Inches: \"))\n",
        "\n",
        "h_inch += h_ft * 12\n",
        "h_cm = round(h_inch * 2.54, 1)\n",
        "\n",
        "print(\"Your height is : %f cm.\" % h_cm)"
      ],
      "execution_count": 29,
      "outputs": [
        {
          "output_type": "stream",
          "text": [
            "Input your height: \n",
            "Feet: 10.1\n",
            "Inches: 10\n",
            "Your height is : 333.200000 cm.\n"
          ],
          "name": "stdout"
        }
      ]
    }
  ]
}