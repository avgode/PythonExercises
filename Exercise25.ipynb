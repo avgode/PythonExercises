{
  "nbformat": 4,
  "nbformat_minor": 0,
  "metadata": {
    "colab": {
      "name": "Exercise25.ipynb",
      "provenance": [],
      "authorship_tag": "ABX9TyOpFuzLILVMBspXI4+J1H0p",
      "include_colab_link": true
    },
    "kernelspec": {
      "name": "python3",
      "display_name": "Python 3"
    }
  },
  "cells": [
    {
      "cell_type": "markdown",
      "metadata": {
        "id": "view-in-github",
        "colab_type": "text"
      },
      "source": [
        "<a href=\"https://colab.research.google.com/github/avgode/PythonExercises/blob/master/Exercise25.ipynb\" target=\"_parent\"><img src=\"https://colab.research.google.com/assets/colab-badge.svg\" alt=\"Open In Colab\"/></a>"
      ]
    },
    {
      "cell_type": "code",
      "metadata": {
        "id": "1e283dLnCAZC",
        "colab_type": "code",
        "colab": {}
      },
      "source": [
        "def break_words(stuff):\n",
        "  print(\"\"\"This function will break up words for us.\"\"\")\n",
        "  words = stuff.split(' ')\n",
        "  return words\n",
        "\n",
        "def sort_words(words):\n",
        "  print(\"\"\"Sorts the words.\"\"\")\n",
        "  return sorted(words)\n",
        "\n",
        "def print_first_word(words):\n",
        "  print(\"\"\"Prints the first word after popping it off.\"\"\")\n",
        "  word = words.pop(0)\n",
        "  print(word)\n",
        "\n",
        "def print_last_word(words):\n",
        "  print(\"\"\"Prints the last word after popping it off.\"\"\")\n",
        "  word = words.pop(-1)\n",
        "  print(word)\n",
        "\n",
        "def sort_sentence(sentence):\n",
        "  print(\"\"\"Takes in a full sentence and returns the sorted words.\"\"\")\n",
        "  words = break_words(sentence)\n",
        "  return sort_words(words)\n",
        "\n",
        "def print_first_and_last(sentence):\n",
        "  print(\"\"\"Prints the first and last words of the sentence.\"\"\")\n",
        "  words = break_words(sentence)\n",
        "  print_first_word(words)\n",
        "  print_last_word(words)\n",
        "\n",
        "def print_first_and_last_sorted(sentence):\n",
        "  print(\"\"\"Sorts the words then prints the first and last one.\"\"\")\n",
        "  words = sort_sentence(sentence)\n",
        "  print_first_word(words)\n",
        "  print_last_word(words)"
      ],
      "execution_count": 0,
      "outputs": []
    },
    {
      "cell_type": "code",
      "metadata": {
        "id": "Jk9tkXCzOPxd",
        "colab_type": "code",
        "colab": {
          "base_uri": "https://localhost:8080/",
          "height": 51
        },
        "outputId": "b9cce9cd-ec7c-464b-c1da-73d62de29224"
      },
      "source": [
        "sentence = \"All good things come to those who wait.\"\n",
        "words = break_words(sentence)\n",
        "words"
      ],
      "execution_count": 12,
      "outputs": [
        {
          "output_type": "stream",
          "text": [
            "This function will break up words for us.\n"
          ],
          "name": "stdout"
        },
        {
          "output_type": "execute_result",
          "data": {
            "text/plain": [
              "['All', 'good', 'things', 'come', 'to', 'those', 'who', 'wait.']"
            ]
          },
          "metadata": {
            "tags": []
          },
          "execution_count": 12
        }
      ]
    },
    {
      "cell_type": "code",
      "metadata": {
        "id": "-zJbL0I6Og9J",
        "colab_type": "code",
        "colab": {
          "base_uri": "https://localhost:8080/",
          "height": 51
        },
        "outputId": "4ede1f10-2244-4994-ac34-3144b829c18d"
      },
      "source": [
        "sorted_words = sort_words(words) \n",
        "sorted_words"
      ],
      "execution_count": 13,
      "outputs": [
        {
          "output_type": "stream",
          "text": [
            "Sorts the words.\n"
          ],
          "name": "stdout"
        },
        {
          "output_type": "execute_result",
          "data": {
            "text/plain": [
              "['All', 'come', 'good', 'things', 'those', 'to', 'wait.', 'who']"
            ]
          },
          "metadata": {
            "tags": []
          },
          "execution_count": 13
        }
      ]
    },
    {
      "cell_type": "code",
      "metadata": {
        "id": "Du0NCXXHOmbL",
        "colab_type": "code",
        "colab": {
          "base_uri": "https://localhost:8080/",
          "height": 102
        },
        "outputId": "08acb4e7-a83c-4bbf-f359-5591dfcdbec9"
      },
      "source": [
        "print_first_word(words)\n",
        "print_last_word(words)\n",
        "words"
      ],
      "execution_count": 14,
      "outputs": [
        {
          "output_type": "stream",
          "text": [
            "Prints the first word after popping it off.\n",
            "All\n",
            "Prints the last word after popping it off.\n",
            "wait.\n"
          ],
          "name": "stdout"
        },
        {
          "output_type": "execute_result",
          "data": {
            "text/plain": [
              "['good', 'things', 'come', 'to', 'those', 'who']"
            ]
          },
          "metadata": {
            "tags": []
          },
          "execution_count": 14
        }
      ]
    },
    {
      "cell_type": "code",
      "metadata": {
        "id": "nBT4_tiIOplM",
        "colab_type": "code",
        "colab": {
          "base_uri": "https://localhost:8080/",
          "height": 102
        },
        "outputId": "938f2063-e017-45d3-b652-751ebccbd042"
      },
      "source": [
        "print_first_word(sorted_words)\n",
        "print_last_word(sorted_words)\n",
        "sorted_words"
      ],
      "execution_count": 15,
      "outputs": [
        {
          "output_type": "stream",
          "text": [
            "Prints the first word after popping it off.\n",
            "All\n",
            "Prints the last word after popping it off.\n",
            "who\n"
          ],
          "name": "stdout"
        },
        {
          "output_type": "execute_result",
          "data": {
            "text/plain": [
              "['come', 'good', 'things', 'those', 'to', 'wait.']"
            ]
          },
          "metadata": {
            "tags": []
          },
          "execution_count": 15
        }
      ]
    },
    {
      "cell_type": "code",
      "metadata": {
        "id": "fiQTw09DOr7G",
        "colab_type": "code",
        "colab": {
          "base_uri": "https://localhost:8080/",
          "height": 85
        },
        "outputId": "ee776673-07ff-40be-cf5d-e1ca273fe6ff"
      },
      "source": [
        "sorted_words = sort_sentence(sentence)\n",
        "sorted_words"
      ],
      "execution_count": 17,
      "outputs": [
        {
          "output_type": "stream",
          "text": [
            "Takes in a full sentence and returns the sorted words.\n",
            "This function will break up words for us.\n",
            "Sorts the words.\n"
          ],
          "name": "stdout"
        },
        {
          "output_type": "execute_result",
          "data": {
            "text/plain": [
              "['All', 'come', 'good', 'things', 'those', 'to', 'wait.', 'who']"
            ]
          },
          "metadata": {
            "tags": []
          },
          "execution_count": 17
        }
      ]
    },
    {
      "cell_type": "code",
      "metadata": {
        "id": "VZNKjzRvOuRO",
        "colab_type": "code",
        "colab": {
          "base_uri": "https://localhost:8080/",
          "height": 255
        },
        "outputId": "94c136cd-df52-4a39-8959-c8edc0d917e2"
      },
      "source": [
        "print_first_and_last(sentence)\n",
        "print_first_and_last_sorted(sentence)"
      ],
      "execution_count": 18,
      "outputs": [
        {
          "output_type": "stream",
          "text": [
            "Prints the first and last words of the sentence.\n",
            "This function will break up words for us.\n",
            "Prints the first word after popping it off.\n",
            "All\n",
            "Prints the last word after popping it off.\n",
            "wait.\n",
            "Sorts the words then prints the first and last one.\n",
            "Takes in a full sentence and returns the sorted words.\n",
            "This function will break up words for us.\n",
            "Sorts the words.\n",
            "Prints the first word after popping it off.\n",
            "All\n",
            "Prints the last word after popping it off.\n",
            "who\n"
          ],
          "name": "stdout"
        }
      ]
    }
  ]
}