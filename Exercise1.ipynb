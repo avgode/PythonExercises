{
  "nbformat": 4,
  "nbformat_minor": 0,
  "metadata": {
    "colab": {
      "name": "Exercise1.ipynb",
      "provenance": [],
      "authorship_tag": "ABX9TyMcpk615i85pyxB5gHmGEAT",
      "include_colab_link": true
    },
    "kernelspec": {
      "name": "python3",
      "display_name": "Python 3"
    }
  },
  "cells": [
    {
      "cell_type": "markdown",
      "metadata": {
        "id": "view-in-github",
        "colab_type": "text"
      },
      "source": [
        "<a href=\"https://colab.research.google.com/github/avgode/PythonExercises/blob/master/Exercise1.ipynb\" target=\"_parent\"><img src=\"https://colab.research.google.com/assets/colab-badge.svg\" alt=\"Open In Colab\"/></a>"
      ]
    },
    {
      "cell_type": "code",
      "metadata": {
        "id": "aJki9LvHIjqQ",
        "colab_type": "code",
        "outputId": "dfd30b6b-1eec-43a2-9def-d7b045c1c291",
        "colab": {
          "base_uri": "https://localhost:8080/",
          "height": 136
        }
      },
      "source": [
        "print(\"Hello World\")\n",
        "print(\"Hello Again\")\n",
        "print(\"I like typing this.\")\n",
        "print(\"This is fun.\")\n",
        "print(\"Yay! Printing.\")\n",
        "print(\"I'd much rather you 'not'.\")\n",
        "print('I \"said\" do not touch this.')"
      ],
      "execution_count": 35,
      "outputs": [
        {
          "output_type": "stream",
          "text": [
            "Hello World\n",
            "Hello Again\n",
            "I like typing \tthis.\n",
            "This is fun.\n",
            "Yay! Printing.\n",
            "I'd much rather you 'not'.\n",
            "I \"said\" do not touch this.\n"
          ],
          "name": "stdout"
        }
      ]
    },
    {
      "cell_type": "code",
      "metadata": {
        "id": "yPBr4nDoJldU",
        "colab_type": "code",
        "colab": {}
      },
      "source": [
        "# For comments use #"
      ],
      "execution_count": 0,
      "outputs": []
    },
    {
      "cell_type": "code",
      "metadata": {
        "id": "U3Dps_Q5LWyb",
        "colab_type": "code",
        "outputId": "6db935ca-18db-4cf1-d8a2-a883a065e971",
        "colab": {
          "base_uri": "https://localhost:8080/",
          "height": 34
        }
      },
      "source": [
        "print(\"$\"*4) # Print $ 4 times"
      ],
      "execution_count": 0,
      "outputs": [
        {
          "output_type": "stream",
          "text": [
            "$$$$\n"
          ],
          "name": "stdout"
        }
      ]
    },
    {
      "cell_type": "code",
      "metadata": {
        "id": "Q5k2T9HJLiNw",
        "colab_type": "code",
        "outputId": "ad31e3a9-52a5-4aa7-9af2-c475e69905e0",
        "colab": {
          "base_uri": "https://localhost:8080/",
          "height": 34
        }
      },
      "source": [
        "print(\"My name\",\"John\") # Automatically adds space between two sentences"
      ],
      "execution_count": 0,
      "outputs": [
        {
          "output_type": "stream",
          "text": [
            "My name John\n"
          ],
          "name": "stdout"
        }
      ]
    },
    {
      "cell_type": "code",
      "metadata": {
        "id": "IO6TiOo0L0z4",
        "colab_type": "code",
        "outputId": "c5bb0d3c-c22d-476f-b939-de643ccff46e",
        "colab": {
          "base_uri": "https://localhost:8080/",
          "height": 34
        }
      },
      "source": [
        "print(\"My name\"+\"John\") # No space added between two sentencess"
      ],
      "execution_count": 0,
      "outputs": [
        {
          "output_type": "stream",
          "text": [
            "My nameJohn\n"
          ],
          "name": "stdout"
        }
      ]
    },
    {
      "cell_type": "code",
      "metadata": {
        "id": "MO52_xXvZ0zz",
        "colab_type": "code",
        "colab": {
          "base_uri": "https://localhost:8080/",
          "height": 68
        },
        "outputId": "0ef1a678-ba6c-441b-aa80-9f037274985b"
      },
      "source": [
        "print(\"Hello World\",end=\"\\t\")\n",
        "print(\"Hello Again\")\n",
        "print(\"I like typing this.\",end=\" \")\n",
        "print(\"This is fun.\")\n",
        "print(\"Yay! Printing.\",\"I'd much rather you 'not'.\", sep=\", \",end=\" \")\n",
        "print('I \"said\" do not touch this.')"
      ],
      "execution_count": 22,
      "outputs": [
        {
          "output_type": "stream",
          "text": [
            "Hello World\tHello Again\n",
            "I like typing this. This is fun.\n",
            "Yay! Printing., I'd much rather you 'not'. I \"said\" do not touch this.\n"
          ],
          "name": "stdout"
        }
      ]
    },
    {
      "cell_type": "code",
      "metadata": {
        "id": "D6pxpnvAdxBL",
        "colab_type": "code",
        "colab": {
          "base_uri": "https://localhost:8080/",
          "height": 34
        },
        "outputId": "4bfe5d77-cf92-4fa6-8752-44fa814b4db5"
      },
      "source": [
        "# Triple quotes: They are used so that we can work with multi-line strings, and \n",
        "# all associated whitespace will be included in the string\n",
        "print(\"\"\"This is a function. \\nDo not change it or else it will not work\"\"\")"
      ],
      "execution_count": 34,
      "outputs": [
        {
          "output_type": "stream",
          "text": [
            "This is a function. \tDo not change it or else it will not work\n"
          ],
          "name": "stdout"
        }
      ]
    }
  ]
}