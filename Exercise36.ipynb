{
  "nbformat": 4,
  "nbformat_minor": 0,
  "metadata": {
    "colab": {
      "name": "Exercise36.ipynb",
      "provenance": [],
      "authorship_tag": "ABX9TyMNpQcuT20VYXCWgLIF1jnk",
      "include_colab_link": true
    },
    "kernelspec": {
      "name": "python3",
      "display_name": "Python 3"
    }
  },
  "cells": [
    {
      "cell_type": "markdown",
      "metadata": {
        "id": "view-in-github",
        "colab_type": "text"
      },
      "source": [
        "<a href=\"https://colab.research.google.com/github/avgode/PythonExercises/blob/master/Exercise36.ipynb\" target=\"_parent\"><img src=\"https://colab.research.google.com/assets/colab-badge.svg\" alt=\"Open In Colab\"/></a>"
      ]
    },
    {
      "cell_type": "code",
      "metadata": {
        "id": "K6fyRrvEJRA0",
        "colab_type": "code",
        "colab": {
          "base_uri": "https://localhost:8080/",
          "height": 68
        },
        "outputId": "3e77ca78-e21a-4f6d-9dc2-3e7c4750f78f"
      },
      "source": [
        "def cheese_room():\n",
        "  print(\"Congrats, Rat find his cheese\")\n",
        "  return True\n",
        "\n",
        "def cat_room():\n",
        "  print(\"Poor rat, Cat captures him.\")\n",
        "  return True\n",
        "\n",
        "def no_exit():\n",
        "  print(\"Rat lost his way out. Start again.\")\n",
        "  return False\n",
        "\n",
        "def start():\n",
        "  print(\"Help rat to reach the cheese.\")\n",
        "  rat_moved = False\n",
        "\n",
        "  while not rat_moved:\n",
        "    choice = input(\"Enter direction of heese room: Right, Left, Straight > \")\n",
        "    \n",
        "    if choice.lower() == \"straight\":\n",
        "      rat_moved = cheese_room()\n",
        "    elif choice.lower() == \"right\": \n",
        "      rat_moved = cat_room()\n",
        "    else:\n",
        "      rat_moved = no_exit()\n",
        "\n",
        "start()"
      ],
      "execution_count": 14,
      "outputs": [
        {
          "output_type": "stream",
          "text": [
            "Help rat to reach the cheese.\n",
            "Enter direction of heese room: Right, Left, Straight > sTraight\n",
            "Congrats, Rat find his cheese\n"
          ],
          "name": "stdout"
        }
      ]
    }
  ]
}