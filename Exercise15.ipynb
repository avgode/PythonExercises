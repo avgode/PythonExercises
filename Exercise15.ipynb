{
  "nbformat": 4,
  "nbformat_minor": 0,
  "metadata": {
    "colab": {
      "name": "Exercise15.ipynb",
      "provenance": [],
      "authorship_tag": "ABX9TyM7IlnDmws8Q+3Wa4cPl15I",
      "include_colab_link": true
    },
    "kernelspec": {
      "name": "python3",
      "display_name": "Python 3"
    }
  },
  "cells": [
    {
      "cell_type": "markdown",
      "metadata": {
        "id": "view-in-github",
        "colab_type": "text"
      },
      "source": [
        "<a href=\"https://colab.research.google.com/github/avgode/PythonExercises/blob/master/Exercise15.ipynb\" target=\"_parent\"><img src=\"https://colab.research.google.com/assets/colab-badge.svg\" alt=\"Open In Colab\"/></a>"
      ]
    },
    {
      "cell_type": "code",
      "metadata": {
        "id": "VyZuHVUOzuuF",
        "colab_type": "code",
        "colab": {
          "base_uri": "https://localhost:8080/",
          "height": 221
        },
        "outputId": "4002c6f1-8e04-4f1e-c114-485289efe21c"
      },
      "source": [
        "from sys import argv\n",
        "\n",
        "script, filename = argv\n",
        "\n",
        "txt = open(filename)\n",
        "\n",
        "print(f\"Here's your file {filename}:\")\n",
        "print(txt.read())\n",
        "\n",
        "print(\"Type the filename again:\")\n",
        "file_again = input(\"> \")\n",
        "\n",
        "txt_again = open(file_again)\n",
        "print(txt_again.read())"
      ],
      "execution_count": 1,
      "outputs": [
        {
          "output_type": "stream",
          "text": [
            "Enter filename: Ex15.txt\n",
            "Here's your file Ex15.txt:\n",
            "This is stuff I typed into a file. \n",
            "It is really cool stuff.\n",
            "Lots and lots of fun to have in here.\n",
            "\n",
            "Type the filename again:\n",
            "> Ex15.txt\n",
            "This is stuff I typed into a file. \n",
            "It is really cool stuff.\n",
            "Lots and lots of fun to have in here.\n",
            "\n"
          ],
          "name": "stdout"
        }
      ]
    }
  ]
}