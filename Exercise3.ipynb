{
  "nbformat": 4,
  "nbformat_minor": 0,
  "metadata": {
    "colab": {
      "name": "Exercise3.ipynb",
      "provenance": [],
      "collapsed_sections": [],
      "authorship_tag": "ABX9TyPqYpfjRmGdVeN7SCXptfIA",
      "include_colab_link": true
    },
    "kernelspec": {
      "name": "python3",
      "display_name": "Python 3"
    }
  },
  "cells": [
    {
      "cell_type": "markdown",
      "metadata": {
        "id": "view-in-github",
        "colab_type": "text"
      },
      "source": [
        "<a href=\"https://colab.research.google.com/github/avgode/PythonExercises/blob/master/Exercise3.ipynb\" target=\"_parent\"><img src=\"https://colab.research.google.com/assets/colab-badge.svg\" alt=\"Open In Colab\"/></a>"
      ]
    },
    {
      "cell_type": "code",
      "metadata": {
        "id": "ZRlpZYEoUTR-",
        "colab_type": "code",
        "colab": {
          "base_uri": "https://localhost:8080/",
          "height": 272
        },
        "outputId": "17af8092-aeba-4c8a-a8b1-45e7667d0576"
      },
      "source": [
        "print(\"I will now count my chickens:\")\n",
        "\n",
        "print(\"Hens\", 25 + 30 / 6) # First division and then addition\n",
        "print(\"Roosters\", 100 - 25 * 3 % 4) # First multiplication, then mod and last subtraction\n",
        "\n",
        "print(\"Now I will count the eggs:\")\n",
        "\n",
        "print(3 + 2 + 1 - 5 + 4 % 2 - 1 / 4 + 6) # This operation will follow below seq.\n",
        "#(3 + 2 + 1) - 5 + (4 % 2) - (1 / 4) + 6\n",
        "\n",
        "print(\"Is it true that 3 + 2 < 5 - 7?\")\n",
        "\n",
        "print(3 + 2 < 5 - 7)\n",
        "\n",
        "print(\"What is 3 + 2?\", 3 + 2)\n",
        "print(\"What is 5 - 7?\", 5 - 7)\n",
        "\n",
        "print(\"Oh, that's why it's False.\")\n",
        "\n",
        "print(\"Oh, that's why it's False.\")\n",
        "\n",
        "print(\"How about some more.\")\n",
        "\n",
        "print(\"Is it greater?\", 5 > -2)\n",
        "print(\"Is it greater or equal?\", 5 >= -2)\n",
        "print(\"Is it less or equal?\", 5 <= -2)"
      ],
      "execution_count": 3,
      "outputs": [
        {
          "output_type": "stream",
          "text": [
            "I will now count my chickens:\n",
            "Hens 30.0\n",
            "Roosters 97\n",
            "Now I will count the eggs:\n",
            "6.75\n",
            "Is it true that 3 + 2 < 5 - 7?\n",
            "False\n",
            "What is 3 + 2? 5\n",
            "What is 5 - 7? -2\n",
            "Oh, that's why it's False.\n",
            "Oh, that's why it's False.\n",
            "How about some more.\n",
            "Is it greater? True\n",
            "Is it greater or equal? True\n",
            "Is it less or equal? False\n"
          ],
          "name": "stdout"
        }
      ]
    },
    {
      "cell_type": "markdown",
      "metadata": {
        "id": "Gw9fUZG0KKR0",
        "colab_type": "text"
      },
      "source": [
        "By default strings are left-justified within the field, and numbers are right-justified. We can modify this by placing an alignment code just following the colon.\n",
        "\n",
        "```\n",
        "<   :  left-align text in  the field\n",
        "^   :  center text in the field\n",
        ">   :  right-align text in the field\n",
        "```"
      ]
    },
    {
      "cell_type": "code",
      "metadata": {
        "id": "Q5dLxr8bXScR",
        "colab_type": "code",
        "colab": {
          "base_uri": "https://localhost:8080/",
          "height": 34
        },
        "outputId": "5cf1748d-051b-4939-a31c-5615099b4f14"
      },
      "source": [
        "print(\"Hello {0}, your balance is{1:8.3f}!\".format(\"John\", 235.1345))\n",
        "# 0 - First parameter\n",
        "# 1:8.3f - 1 is second parameter, 8 is total number of spaces towards right \n",
        "# .3 is floating point till 3rd decimal"
      ],
      "execution_count": 44,
      "outputs": [
        {
          "output_type": "stream",
          "text": [
            "Hello John, your balance is235.135!\n"
          ],
          "name": "stdout"
        }
      ]
    },
    {
      "cell_type": "code",
      "metadata": {
        "id": "7voQAX7tJ2q1",
        "colab_type": "code",
        "colab": {
          "base_uri": "https://localhost:8080/",
          "height": 51
        },
        "outputId": "9c2b2ee6-152e-43b7-f32a-a8dd5c083974"
      },
      "source": [
        "# To demonstrate aligning of spaces \n",
        "print(\"{0:>16} was founded in {1:<10}!\"\n",
        "        .format(\"GeeksforGeeks\", 2009)) \n",
        "  \n",
        "print(\"{:*^20s}\".format(\"Geeks\"))"
      ],
      "execution_count": 46,
      "outputs": [
        {
          "output_type": "stream",
          "text": [
            "   GeeksforGeeks was founded in 2009      !\n",
            "*******Geeks********\n"
          ],
          "name": "stdout"
        }
      ]
    },
    {
      "cell_type": "code",
      "metadata": {
        "id": "zDl9YjXlGs_c",
        "colab_type": "code",
        "colab": {
          "base_uri": "https://localhost:8080/",
          "height": 34
        },
        "outputId": "32ed8d49-f82d-4b8f-d1a2-2c270a5d3732"
      },
      "source": [
        "print(\"{0:4}, is the computer science portal for {1:8}!\"\n",
        "                        .format(\"GeeksforGeeks\", \"geeks\")) "
      ],
      "execution_count": 15,
      "outputs": [
        {
          "output_type": "stream",
          "text": [
            "GeeksforGeeks, is the computer science portal for geeks   !\n"
          ],
          "name": "stdout"
        }
      ]
    }
  ]
}