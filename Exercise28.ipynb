{
  "nbformat": 4,
  "nbformat_minor": 0,
  "metadata": {
    "colab": {
      "name": "Exercise28.ipynb",
      "provenance": [],
      "authorship_tag": "ABX9TyNsAzcIX/SyWmUas4Ofdgiv",
      "include_colab_link": true
    },
    "kernelspec": {
      "name": "python3",
      "display_name": "Python 3"
    }
  },
  "cells": [
    {
      "cell_type": "markdown",
      "metadata": {
        "id": "view-in-github",
        "colab_type": "text"
      },
      "source": [
        "<a href=\"https://colab.research.google.com/github/avgode/PythonExercises/blob/master/Exercise28.ipynb\" target=\"_parent\"><img src=\"https://colab.research.google.com/assets/colab-badge.svg\" alt=\"Open In Colab\"/></a>"
      ]
    },
    {
      "cell_type": "code",
      "metadata": {
        "id": "7uveCy3eHVaV",
        "colab_type": "code",
        "colab": {
          "base_uri": "https://localhost:8080/",
          "height": 357
        },
        "outputId": "852226ba-1010-4aa1-87ee-fcf46071ae53"
      },
      "source": [
        "print(True and True) # True\n",
        "print(False and True) # False\n",
        "print(1 == 1 and 2 == 1) # False\n",
        "print(\"test\" == \"test\") # True\n",
        "print(1 == 1 or 2 != 1) # True\n",
        "print(True and 1 == 1) # True\n",
        "print(False and 0 != 0) # False\n",
        "print(True or 1 == 1) # True\n",
        "print(\"test\" == \"testing\") # False\n",
        "print(1 != 0 and 2 == 1) # False\n",
        "print(\"test\" != \"testing\") # True\n",
        "print(\"test\" == 1) # False\n",
        "print(not (True and False)) # True\n",
        "print(not (1 == 1 and 0 != 1)) # False\n",
        "print(not (10 == 1 or 1000 == 1000)) # True: Wrong -- Correct: False\n",
        "print(not (1 != 10 or 3 == 4)) # False\n",
        "print(not (\"testing\" == \"testing\" and \"Zed\" == \"Cool Guy\")) # True\n",
        "print(1 == 1 and (not (\"testing\" == 1 or 1 == 0))) # Error: Wrong  -- Correct: True\n",
        "print(\"chunky\" == \"bacon\" and (not (3 == 4 or 3 == 3))) # False\n",
        "print(3 == 3 and (not (\"testing\" == \"testing\" or \"Python\" == \"Fun\"))) # False"
      ],
      "execution_count": 3,
      "outputs": [
        {
          "output_type": "stream",
          "text": [
            "True\n",
            "False\n",
            "False\n",
            "True\n",
            "True\n",
            "True\n",
            "False\n",
            "True\n",
            "False\n",
            "False\n",
            "True\n",
            "False\n",
            "True\n",
            "False\n",
            "False\n",
            "False\n",
            "True\n",
            "True\n",
            "False\n",
            "False\n"
          ],
          "name": "stdout"
        }
      ]
    }
  ]
}