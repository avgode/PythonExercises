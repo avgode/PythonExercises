{
  "nbformat": 4,
  "nbformat_minor": 0,
  "metadata": {
    "colab": {
      "name": "Exercise32.ipynb",
      "provenance": [],
      "authorship_tag": "ABX9TyPzWSdAcbZx4NjeVAwd6sCB",
      "include_colab_link": true
    },
    "kernelspec": {
      "name": "python3",
      "display_name": "Python 3"
    }
  },
  "cells": [
    {
      "cell_type": "markdown",
      "metadata": {
        "id": "view-in-github",
        "colab_type": "text"
      },
      "source": [
        "<a href=\"https://colab.research.google.com/github/avgode/PythonExercises/blob/master/Exercise32.ipynb\" target=\"_parent\"><img src=\"https://colab.research.google.com/assets/colab-badge.svg\" alt=\"Open In Colab\"/></a>"
      ]
    },
    {
      "cell_type": "code",
      "metadata": {
        "id": "GPz9Gl9S-23I",
        "colab_type": "code",
        "colab": {
          "base_uri": "https://localhost:8080/",
          "height": 476
        },
        "outputId": "f4f8cf7c-90ad-4543-e02b-b6f638589617"
      },
      "source": [
        "the_count = [1, 2, 3, 4, 5]\n",
        "fruits = ['apples', 'oranges', 'pears', 'apricots']\n",
        "change = [1, 'pennies', 2, 'dimes', 3, 'quarters']\n",
        "\n",
        "# this first kind of for-loop goes through a list\n",
        "for number in the_count:\n",
        "    print(f\"This is count {number}\")\n",
        "\n",
        "# same as above\n",
        "for fruit in fruits:\n",
        "    print(f\"A fruit of type: {fruit}\")\n",
        "\n",
        "# also we can go through mixed lists too\n",
        "\n",
        "# notice we have to use {} since we don't know what's in it\n",
        "for i in change:\n",
        "    print(f\"I got {i}\")\n",
        "\n",
        "# we can also build lists, first start with an empty one\n",
        "elements = []\n",
        "\n",
        "# then use the range function to do 0 to 5 counts\n",
        "for i in range(0, 6):\n",
        "    print(f\"Adding {i} to the list.\")\n",
        "    # append is a function that lists understand\n",
        "    elements.append(i)\n",
        "\n",
        "# now we can print them out too\n",
        "for i in elements:\n",
        "    print(f\"Element was: {i}\")\n"
      ],
      "execution_count": 2,
      "outputs": [
        {
          "output_type": "stream",
          "text": [
            "This is count 1\n",
            "This is count 2\n",
            "This is count 3\n",
            "This is count 4\n",
            "This is count 5\n",
            "A fruit of type: apples\n",
            "A fruit of type: oranges\n",
            "A fruit of type: pears\n",
            "A fruit of type: apricots\n",
            "I got 1\n",
            "I got pennies\n",
            "I got 2\n",
            "I got dimes\n",
            "I got 3\n",
            "I got quarters\n",
            "Adding 0 to the list.\n",
            "Adding 1 to the list.\n",
            "Adding 2 to the list.\n",
            "Adding 3 to the list.\n",
            "Adding 4 to the list.\n",
            "Adding 5 to the list.\n",
            "Element was: 0\n",
            "Element was: 1\n",
            "Element was: 2\n",
            "Element was: 3\n",
            "Element was: 4\n",
            "Element was: 5\n"
          ],
          "name": "stdout"
        }
      ]
    }
  ]
}