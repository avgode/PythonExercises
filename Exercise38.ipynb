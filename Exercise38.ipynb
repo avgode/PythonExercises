{
  "nbformat": 4,
  "nbformat_minor": 0,
  "metadata": {
    "colab": {
      "name": "Exercise38.ipynb",
      "provenance": [],
      "authorship_tag": "ABX9TyNZrLhRKOADdnrZwA4yz9nF",
      "include_colab_link": true
    },
    "kernelspec": {
      "name": "python3",
      "display_name": "Python 3"
    }
  },
  "cells": [
    {
      "cell_type": "markdown",
      "metadata": {
        "id": "view-in-github",
        "colab_type": "text"
      },
      "source": [
        "<a href=\"https://colab.research.google.com/github/avgode/PythonExercises/blob/master/Exercise38.ipynb\" target=\"_parent\"><img src=\"https://colab.research.google.com/assets/colab-badge.svg\" alt=\"Open In Colab\"/></a>"
      ]
    },
    {
      "cell_type": "code",
      "metadata": {
        "id": "EDiN5hhXbH9C",
        "colab_type": "code",
        "colab": {
          "base_uri": "https://localhost:8080/",
          "height": 306
        },
        "outputId": "4e1ed981-95bd-429f-d11b-88c83db36da4"
      },
      "source": [
        "ten_things = \"Apples Oranges Crows Telephone Light Sugar\" \n",
        "print(\"Wait there are not 10 things in that list. Let's fix that.\")\n",
        "\n",
        "stuff = ten_things.split(' ')\n",
        "\n",
        "more_stuff = [\"Day\", \"Night\", \"Song\", \"Frisbee\",\n",
        "             \"Corn\", \"Banana\", \"Girl\", \"Boy\"]\n",
        "\n",
        "while len(stuff) != 10: \n",
        "  next_one = more_stuff.pop() \n",
        "  print(\"Adding: \", next_one) \n",
        "  stuff.append(next_one)\n",
        "  print(stuff[1])\n",
        "\n",
        "print(stuff)\n",
        "print(stuff[-1]) # whoa! fancy\n",
        "\n",
        "print(stuff.pop())\n",
        "print(f\"There are {len(stuff)} items now.\") \n",
        "print(\"There we go: \", stuff)\n",
        "print(\"Let's do some things with stuff.\")\n",
        "\n",
        "print('#'.join(stuff)) # what? cool!\n",
        "\n",
        "print('-'.join(stuff[3:5])) # super stellar!"
      ],
      "execution_count": 7,
      "outputs": [
        {
          "output_type": "stream",
          "text": [
            "Wait there are not 10 things in that list. Let's fix that.\n",
            "Adding:  Boy\n",
            "Oranges\n",
            "Adding:  Girl\n",
            "Oranges\n",
            "Adding:  Banana\n",
            "Oranges\n",
            "Adding:  Corn\n",
            "Oranges\n",
            "['Apples', 'Oranges', 'Crows', 'Telephone', 'Light', 'Sugar', 'Boy', 'Girl', 'Banana', 'Corn']\n",
            "Corn\n",
            "Corn\n",
            "There are 9 items now.\n",
            "There we go:  ['Apples', 'Oranges', 'Crows', 'Telephone', 'Light', 'Sugar', 'Boy', 'Girl', 'Banana']\n",
            "Let's do some things with stuff.\n",
            "Apples#Oranges#Crows#Telephone#Light#Sugar#Boy#Girl#Banana\n",
            "Telephone-Light\n"
          ],
          "name": "stdout"
        }
      ]
    }
  ]
}