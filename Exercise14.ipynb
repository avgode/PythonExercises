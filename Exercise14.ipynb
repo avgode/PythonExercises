{
  "nbformat": 4,
  "nbformat_minor": 0,
  "metadata": {
    "colab": {
      "name": "Exercise14.ipynb",
      "provenance": [],
      "toc_visible": true,
      "authorship_tag": "ABX9TyMapapQjk3zk7/vFg/ror7b",
      "include_colab_link": true
    },
    "kernelspec": {
      "name": "python3",
      "display_name": "Python 3"
    }
  },
  "cells": [
    {
      "cell_type": "markdown",
      "metadata": {
        "id": "view-in-github",
        "colab_type": "text"
      },
      "source": [
        "<a href=\"https://colab.research.google.com/github/avgode/PythonExercises/blob/master/Exercise14.ipynb\" target=\"_parent\"><img src=\"https://colab.research.google.com/assets/colab-badge.svg\" alt=\"Open In Colab\"/></a>"
      ]
    },
    {
      "cell_type": "code",
      "metadata": {
        "id": "CGqxdbCPD5RA",
        "colab_type": "code",
        "colab": {
          "base_uri": "https://localhost:8080/",
          "height": 221
        },
        "outputId": "b15901e6-ad4f-4c76-db24-9df0281cb223"
      },
      "source": [
        "from sys import argv\n",
        "\n"
      ],
      "execution_count": 7,
      "outputs": [
        {
          "output_type": "stream",
          "text": [
            "I'd like to ask you a few questions.\n",
            "Do you like me Zen?\n",
            "> 10\n",
            "Where do you live Zen?\n",
            "> 10\n",
            "What kind of computer do you have?\n",
            "> 10\n",
            "\n",
            "Alright, so you said 10 about liking me.\n",
            "You live in 10. Not sure where that is.\n",
            "And you have a 10 computer. Nice.\n",
            "\n"
          ],
          "name": "stdout"
        }
      ]
    },
    {
      "cell_type": "code",
      "metadata": {
        "id": "mTP9LXscEb3u",
        "colab_type": "code",
        "colab": {}
      },
      "source": [
        "script, user_name = argv\n",
        "prompt = '> '\n",
        "\n",
        "print(f\"Hi {user_name}, I'm the {script} script.\")\n",
        "print(\"I'd like to ask you a few questions.\")\n",
        "print(f\"Do you like me {user_name}?\")\n",
        "likes = input(prompt)\n",
        "\n",
        "print(f\"Where do you live {user_name}?\")\n",
        "lives = input(prompt)\n",
        "\n",
        "print(\"What kind of computer do you have?\")\n",
        "computer = input(prompt)\n",
        "\n",
        "print(f\"\"\"\n",
        "Alright, so you said {likes} about liking me.\n",
        "You live in {lives}. Not sure where that is.\n",
        "And you have a {computer} computer. Nice.\n",
        "\"\"\")"
      ],
      "execution_count": 0,
      "outputs": []
    },
    {
      "cell_type": "code",
      "metadata": {
        "id": "kCWYlG5MEa3Y",
        "colab_type": "code",
        "colab": {
          "base_uri": "https://localhost:8080/",
          "height": 221
        },
        "outputId": "40e2eed2-d4f8-40db-93c2-f8d3a76a3e8f"
      },
      "source": [
        "user_name_1 = 'Zen'\n",
        "prompt_1 = '< '\n",
        "\n",
        "#print(f\"Hi {user_name}, I'm the {script} script.\")\n",
        "print(\"I'd like to ask you a few questions.\")\n",
        "print(f\"Do you like me {user_name_1}?\")\n",
        "likes_1 = input(prompt_1)\n",
        "\n",
        "print(f\"Where do you live {user_name_1}?\")\n",
        "lives_1 = input(prompt_1)\n",
        "\n",
        "print(\"What kind of computer do you have?\")\n",
        "computer_1 = input(prompt_1)\n",
        "\n",
        "print(f\"\"\"\n",
        "Alright, so you said {likes_1} about liking me.\n",
        "You live in {lives_1}. Not sure where that is.\n",
        "And you have a {computer_1} computer. Nice.\n",
        "\"\"\")"
      ],
      "execution_count": 8,
      "outputs": [
        {
          "output_type": "stream",
          "text": [
            "I'd like to ask you a few questions.\n",
            "Do you like me Zen?\n",
            "< yes\n",
            "Where do you live Zen?\n",
            "< city\n",
            "What kind of computer do you have?\n",
            "< mac\n",
            "\n",
            "Alright, so you said yes about liking me.\n",
            "You live in city. Not sure where that is.\n",
            "And you have a mac computer. Nice.\n",
            "\n"
          ],
          "name": "stdout"
        }
      ]
    },
    {
      "cell_type": "code",
      "metadata": {
        "id": "j81m2HMYBn6V",
        "colab_type": "code",
        "colab": {
          "base_uri": "https://localhost:8080/",
          "height": 34
        },
        "outputId": "1c933543-1ce6-4bef-d96b-0a9a0944059c"
      },
      "source": [
        "# !python Exercise14.ipynb Zen"
      ],
      "execution_count": 9,
      "outputs": [
        {
          "output_type": "stream",
          "text": [
            "python3: can't open file 'Exercise14.ipynb': [Errno 2] No such file or directory\n"
          ],
          "name": "stdout"
        }
      ]
    }
  ]
}