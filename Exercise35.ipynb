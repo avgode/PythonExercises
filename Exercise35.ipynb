{
  "nbformat": 4,
  "nbformat_minor": 0,
  "metadata": {
    "colab": {
      "name": "Exercise35.ipynb",
      "provenance": [],
      "authorship_tag": "ABX9TyP9NxwZaAXyMxH+CcqNvQgV",
      "include_colab_link": true
    },
    "kernelspec": {
      "name": "python3",
      "display_name": "Python 3"
    }
  },
  "cells": [
    {
      "cell_type": "markdown",
      "metadata": {
        "id": "view-in-github",
        "colab_type": "text"
      },
      "source": [
        "<a href=\"https://colab.research.google.com/github/avgode/PythonExercises/blob/master/Exercise35.ipynb\" target=\"_parent\"><img src=\"https://colab.research.google.com/assets/colab-badge.svg\" alt=\"Open In Colab\"/></a>"
      ]
    },
    {
      "cell_type": "code",
      "metadata": {
        "id": "Qkpu1HMSHtVD",
        "colab_type": "code",
        "outputId": "25752d88-40c4-4521-f58e-117b72b0cc48",
        "colab": {
          "base_uri": "https://localhost:8080/",
          "height": 402
        }
      },
      "source": [
        "from sys import exit\n",
        "\n",
        "def gold_room():\n",
        "  print(\"This room is full of gold. How much do you take?\")\n",
        "  choice = input(\"> \")\n",
        "  \n",
        "  if \"0\" in choice or \"1\" in choice:\n",
        "    how_much = int(choice) \n",
        "  else:\n",
        "    dead(\"Man, learn to type a number.\")\n",
        "    \n",
        "  if how_much < 50:\n",
        "    print(\"Nice, you're not greedy, you win!\")\n",
        "    exit(0)\n",
        "  else:\n",
        "    dead(\"You greedy bastard!\")\n",
        "\n",
        "def bear_room():\n",
        "  print(\"There is a bear here.\")\n",
        "  print(\"The bear has a bunch of honey.\") \n",
        "  print(\"The fat bear is in front of another door.\") \n",
        "  print(\"How are you going to move the bear?\") \n",
        "  bear_moved = False\n",
        "  \n",
        "  while True:\n",
        "    choice = input(\"> \")\n",
        "    \n",
        "    if choice == \"take honey\":\n",
        "      dead(\"The bear looks at you then slaps your face\")\n",
        "    elif choice == \"taunt bear\" and not bear_moved: \n",
        "      print(\"The bear has moved from the door.\") \n",
        "      print(\"You can go through it now.\") \n",
        "      bear_moved = True\n",
        "    elif choice == \"taunt bear\" and bear_moved:\n",
        "      dead(\"The bear gets pissed off and chews your leg\")\n",
        "    elif choice == \"open door\" and bear_moved:\n",
        "      gold_room()\n",
        "    else:\n",
        "      print(\"I got no idea what that means.\")\n",
        "      choice = input(\"> \")\n",
        "\n",
        "      if \"flee\" in choice:\n",
        "        start()\n",
        "      elif \"head\" in choice:\n",
        "        dead(\"Well that was tasty!\")\n",
        "      else:\n",
        "        cthulhu_room()\n",
        "\n",
        "def cthulhu_room():\n",
        "  print(\"Here you see the great evil Cthulhu.\")\n",
        "  print(\"He, it, whatever stares at you and you go insane.\") \n",
        "  print(\"Do you flee for your life or eat your head?\")\n",
        "\n",
        "def dead(why):\n",
        "  print(why, \"Good job!\")\n",
        "  exit(0)\n",
        "\n",
        "def start():\n",
        "  print(\"You are in a dark room.\")\n",
        "  print(\"There is a door to your right and left.\") \n",
        "  print(\"Which one do you take?\")\n",
        "  choice = input(\"> \")\n",
        "\n",
        "  if choice == \"left\": \n",
        "    bear_room()\n",
        "  elif choice == \"right\": \n",
        "    cthulhu_room()\n",
        "  else:\n",
        "    dead(\"You stumble around the room until you starve.\")\n",
        "\n",
        "start()"
      ],
      "execution_count": 5,
      "outputs": [
        {
          "output_type": "stream",
          "text": [
            "You are in a dark room.\n",
            "There is a door to your right and left.\n",
            "Which one do you take?\n",
            "> left\n",
            "There is a bear here.\n",
            "The bear has a bunch of honey.\n",
            "The fat bear is in front of another door.\n",
            "How are you going to move the bear?\n",
            "> taunt bear\n",
            "The bear has moved from the door.\n",
            "You can go through it now.\n",
            "> open door\n",
            "This room is full of gold. How much do you take?\n",
            "> 10\n",
            "Nice, you're not greedy, you win!\n"
          ],
          "name": "stdout"
        },
        {
          "output_type": "error",
          "ename": "SystemExit",
          "evalue": "ignored",
          "traceback": [
            "An exception has occurred, use %tb to see the full traceback.\n",
            "\u001b[0;31mSystemExit\u001b[0m\u001b[0;31m:\u001b[0m 0\n"
          ]
        },
        {
          "output_type": "stream",
          "text": [
            "/usr/local/lib/python3.6/dist-packages/IPython/core/interactiveshell.py:2890: UserWarning: To exit: use 'exit', 'quit', or Ctrl-D.\n",
            "  warn(\"To exit: use 'exit', 'quit', or Ctrl-D.\", stacklevel=1)\n"
          ],
          "name": "stderr"
        }
      ]
    }
  ]
}