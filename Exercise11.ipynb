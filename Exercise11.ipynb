{
  "nbformat": 4,
  "nbformat_minor": 0,
  "metadata": {
    "colab": {
      "name": "Exercise11.ipynb",
      "provenance": [],
      "authorship_tag": "ABX9TyOY9Occ/m8oz9kfh2H9c9bl",
      "include_colab_link": true
    },
    "kernelspec": {
      "name": "python3",
      "display_name": "Python 3"
    }
  },
  "cells": [
    {
      "cell_type": "markdown",
      "metadata": {
        "id": "view-in-github",
        "colab_type": "text"
      },
      "source": [
        "<a href=\"https://colab.research.google.com/github/avgode/PythonExercises/blob/master/Exercise11.ipynb\" target=\"_parent\"><img src=\"https://colab.research.google.com/assets/colab-badge.svg\" alt=\"Open In Colab\"/></a>"
      ]
    },
    {
      "cell_type": "code",
      "metadata": {
        "id": "ithaxmv25T7C",
        "colab_type": "code",
        "colab": {
          "base_uri": "https://localhost:8080/",
          "height": 102
        },
        "outputId": "5399a495-4af0-4042-fe27-6c5b0181b82f"
      },
      "source": [
        "print(\"How old are you?\")\n",
        "age = input(\"Age in years:\")\n",
        "print(\"How tall are you?\", end=' ')\n",
        "height = input()\n",
        "print(\"How much do you weigh?\", end=' ')\n",
        "weight = int(input())\n",
        "\n",
        "print(f\"So, you're {age} old, {height} tall and {weight * 0.453592} heavy\");"
      ],
      "execution_count": 16,
      "outputs": [
        {
          "output_type": "stream",
          "text": [
            "How old are you?\n",
            "Age in years:37\n",
            "How tall are you? 185\n",
            "How much do you weigh? 179\n",
            "So, you're 37 old, 185 tall and 81.192968 heavy\n"
          ],
          "name": "stdout"
        }
      ]
    }
  ]
}