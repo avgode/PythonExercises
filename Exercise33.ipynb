{
  "nbformat": 4,
  "nbformat_minor": 0,
  "metadata": {
    "colab": {
      "name": "Exercise33.ipynb",
      "provenance": [],
      "authorship_tag": "ABX9TyN3ledThrLNIVz1uCpMBI8Z",
      "include_colab_link": true
    },
    "kernelspec": {
      "name": "python3",
      "display_name": "Python 3"
    }
  },
  "cells": [
    {
      "cell_type": "markdown",
      "metadata": {
        "id": "view-in-github",
        "colab_type": "text"
      },
      "source": [
        "<a href=\"https://colab.research.google.com/github/avgode/PythonExercises/blob/master/Exercise33.ipynb\" target=\"_parent\"><img src=\"https://colab.research.google.com/assets/colab-badge.svg\" alt=\"Open In Colab\"/></a>"
      ]
    },
    {
      "cell_type": "code",
      "metadata": {
        "id": "5xzyrgjyAo_U",
        "colab_type": "code",
        "colab": {
          "base_uri": "https://localhost:8080/",
          "height": 442
        },
        "outputId": "639657f6-a874-4b8c-f729-6a5bb75b58e2"
      },
      "source": [
        "i = 0\n",
        "numbers = []\n",
        "\n",
        "while i < 6:\n",
        "  print(f\"At the top i is {i}\")\n",
        "  numbers.append(i)\n",
        "  i=i+1\n",
        "  print(\"Numbers now: \", numbers)\n",
        "  print(f\"At the bottom i is {i}\")\n",
        "\n",
        "print(\"The numbers: \")\n",
        "\n",
        "for num in numbers:\n",
        "      print(num)\n"
      ],
      "execution_count": 2,
      "outputs": [
        {
          "output_type": "stream",
          "text": [
            "At the top i is 0\n",
            "Numbers now:  [0]\n",
            "At the bottom i is 1\n",
            "At the top i is 1\n",
            "Numbers now:  [0, 1]\n",
            "At the bottom i is 2\n",
            "At the top i is 2\n",
            "Numbers now:  [0, 1, 2]\n",
            "At the bottom i is 3\n",
            "At the top i is 3\n",
            "Numbers now:  [0, 1, 2, 3]\n",
            "At the bottom i is 4\n",
            "At the top i is 4\n",
            "Numbers now:  [0, 1, 2, 3, 4]\n",
            "At the bottom i is 5\n",
            "At the top i is 5\n",
            "Numbers now:  [0, 1, 2, 3, 4, 5]\n",
            "At the bottom i is 6\n",
            "The numbers: \n",
            "0\n",
            "1\n",
            "2\n",
            "3\n",
            "4\n",
            "5\n"
          ],
          "name": "stdout"
        }
      ]
    },
    {
      "cell_type": "code",
      "metadata": {
        "id": "F4mvSi-aBe3-",
        "colab_type": "code",
        "colab": {
          "base_uri": "https://localhost:8080/",
          "height": 221
        },
        "outputId": "187987fa-1ad0-469c-c5d3-4ce9bf0c535a"
      },
      "source": [
        "def while_op(range_param, incr_param):\n",
        "  i = 0\n",
        "  numbers = []\n",
        "  \n",
        "  while i < range_param:\n",
        "    print(f\"At the top i is {i}\")\n",
        "    numbers.append(i)\n",
        "    i+=incr_param\n",
        "    print(\"Numbers now: \", numbers)\n",
        "    print(f\"At the bottom i is {i}\")\n",
        "\n",
        "  for num in numbers:\n",
        "    print(num)\n",
        "\n",
        "while_op(5, 2)"
      ],
      "execution_count": 4,
      "outputs": [
        {
          "output_type": "stream",
          "text": [
            "At the top i is 0\n",
            "Numbers now:  [0]\n",
            "At the bottom i is 2\n",
            "At the top i is 2\n",
            "Numbers now:  [0, 2]\n",
            "At the bottom i is 4\n",
            "At the top i is 4\n",
            "Numbers now:  [0, 2, 4]\n",
            "At the bottom i is 6\n",
            "0\n",
            "2\n",
            "4\n"
          ],
          "name": "stdout"
        }
      ]
    },
    {
      "cell_type": "code",
      "metadata": {
        "id": "bQRSHEbYCVDV",
        "colab_type": "code",
        "colab": {
          "base_uri": "https://localhost:8080/",
          "height": 221
        },
        "outputId": "83521a4b-45da-458b-f4f9-58ddf167b270"
      },
      "source": [
        "def for_op(range_param, incr_param):\n",
        "  i = 0\n",
        "  numbers = []\n",
        "  \n",
        "  for i in range(0, range_param, incr_param):\n",
        "    print(f\"At the top i is {i}\")\n",
        "    numbers.append(i)\n",
        "    print(\"Numbers now: \", numbers)\n",
        "    print(f\"At the bottom i is {i}\")\n",
        "\n",
        "  for num in numbers:\n",
        "    print(num)\n",
        "    \n",
        "for_op(5, 2)"
      ],
      "execution_count": 6,
      "outputs": [
        {
          "output_type": "stream",
          "text": [
            "At the top i is 0\n",
            "Numbers now:  [0]\n",
            "At the bottom i is 0\n",
            "At the top i is 2\n",
            "Numbers now:  [0, 2]\n",
            "At the bottom i is 2\n",
            "At the top i is 4\n",
            "Numbers now:  [0, 2, 4]\n",
            "At the bottom i is 4\n",
            "0\n",
            "2\n",
            "4\n"
          ],
          "name": "stdout"
        }
      ]
    }
  ]
}