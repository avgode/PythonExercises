{
  "nbformat": 4,
  "nbformat_minor": 0,
  "metadata": {
    "colab": {
      "name": "Exercise20.ipynb",
      "provenance": [],
      "authorship_tag": "ABX9TyMA3Dx1MZQjWG3I6hYYHae+",
      "include_colab_link": true
    },
    "kernelspec": {
      "name": "python3",
      "display_name": "Python 3"
    }
  },
  "cells": [
    {
      "cell_type": "markdown",
      "metadata": {
        "id": "view-in-github",
        "colab_type": "text"
      },
      "source": [
        "<a href=\"https://colab.research.google.com/github/avgode/PythonExercises/blob/master/Exercise20.ipynb\" target=\"_parent\"><img src=\"https://colab.research.google.com/assets/colab-badge.svg\" alt=\"Open In Colab\"/></a>"
      ]
    },
    {
      "cell_type": "code",
      "metadata": {
        "id": "fk9RMvbXNYq4",
        "colab_type": "code",
        "colab": {
          "base_uri": "https://localhost:8080/",
          "height": 272
        },
        "outputId": "6a37c0eb-0c9d-4b1b-8028-05f2dc5b29c8"
      },
      "source": [
        "# from sys import argv\n",
        "\n",
        "# script, input_file = argv\n",
        "\n",
        "input_file = input(\"Please enter filename:\")\n",
        "\n",
        "def print_all(f):\n",
        "  print(f.read())\n",
        "\n",
        "def rewind(f):\n",
        "  f.seek(0)\n",
        "\n",
        "def print_a_line(line_count, f):\n",
        "  print(line_count, f.readline())\n",
        "\n",
        "current_file = open(input_file)\n",
        "\n",
        "print(\"First let's print the whole file:\\n\")\n",
        "print_all(current_file)\n",
        "\n",
        "print(\"Now let's rewind, kind of like a tape.\")\n",
        "rewind(current_file)\n",
        "\n",
        "print(\"Let's print three lines:\")\n",
        "\n",
        "current_line = 1\n",
        "print_a_line(current_line, current_file)\n",
        "\n",
        "current_line = current_line + 1\n",
        "print_a_line(current_line, current_file)\n",
        "\n",
        "current_line = current_line + 1\n",
        "print_a_line(current_line, current_file)"
      ],
      "execution_count": 1,
      "outputs": [
        {
          "output_type": "stream",
          "text": [
            "Please enter filename:Ex20.txt\n",
            "First let's print the whole file:\n",
            "\n",
            "This is stuff I typed into a file. \n",
            "It is really cool stuff.\n",
            "Lots and lots of fun to have in here.\n",
            "\n",
            "Now let's rewind, kind of like a tape.\n",
            "Let's print three lines:\n",
            "1 This is stuff I typed into a file. \n",
            "\n",
            "2 It is really cool stuff.\n",
            "\n",
            "3 Lots and lots of fun to have in here.\n",
            "\n"
          ],
          "name": "stdout"
        }
      ]
    }
  ]
}