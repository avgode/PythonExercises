{
  "nbformat": 4,
  "nbformat_minor": 0,
  "metadata": {
    "colab": {
      "name": "Exercise10.ipynb",
      "provenance": [],
      "authorship_tag": "ABX9TyO3IyfjWLExhdIVbh6pM7+u",
      "include_colab_link": true
    },
    "kernelspec": {
      "name": "python3",
      "display_name": "Python 3"
    }
  },
  "cells": [
    {
      "cell_type": "markdown",
      "metadata": {
        "id": "view-in-github",
        "colab_type": "text"
      },
      "source": [
        "<a href=\"https://colab.research.google.com/github/avgode/PythonExercises/blob/master/Exercise10.ipynb\" target=\"_parent\"><img src=\"https://colab.research.google.com/assets/colab-badge.svg\" alt=\"Open In Colab\"/></a>"
      ]
    },
    {
      "cell_type": "code",
      "metadata": {
        "id": "tKts7-7y2Opr",
        "colab_type": "code",
        "colab": {
          "base_uri": "https://localhost:8080/",
          "height": 204
        },
        "outputId": "6da4bc42-0b91-426f-c6e8-6d338e0a4b0b"
      },
      "source": [
        "tabby_cat = \"\\tI'm tabbed in.\"\n",
        "persian_cat = \"I'm split\\non a line.\"\n",
        "backslash_cat =\"I'm\\\\a\\\\cat.\"\n",
        "\n",
        "fat_cat = \"\"\"\n",
        "I'll do a list:\n",
        "\\t* Cat food\n",
        "\\t* Fishies\n",
        "\\t* Catnip\\n\\t* Grass\n",
        "\"\"\"\n",
        "\n",
        "print(tabby_cat)\n",
        "print(persian_cat)\n",
        "print(backslash_cat)\n",
        "print(fat_cat)"
      ],
      "execution_count": 1,
      "outputs": [
        {
          "output_type": "stream",
          "text": [
            "\tI'm tabbed in.\n",
            "I'm split\n",
            "on a line.\n",
            "I'm\\a\\cat.\n",
            "\n",
            "I'll do a list:\n",
            "\t* Cat food\n",
            "\t* Fishies\n",
            "\t* Catnip\n",
            "\t* Grass\n",
            "\n"
          ],
          "name": "stdout"
        }
      ]
    },
    {
      "cell_type": "code",
      "metadata": {
        "id": "ce2Mkts23InL",
        "colab_type": "code",
        "colab": {
          "base_uri": "https://localhost:8080/",
          "height": 51
        },
        "outputId": "5dcb770b-5649-4849-858e-4af17edcff54"
      },
      "source": [
        "print(\"I am 6'2\\\" tall.\") # escape double—quote inside string\n",
        "print('I am 6\\'2\" tall.') # escape single—quote inside string"
      ],
      "execution_count": 4,
      "outputs": [
        {
          "output_type": "stream",
          "text": [
            "I am 6'2\" tall.\n",
            "I am 6'2\" tall.\n"
          ],
          "name": "stdout"
        }
      ]
    }
  ]
}