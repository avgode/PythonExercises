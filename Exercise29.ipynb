{
  "nbformat": 4,
  "nbformat_minor": 0,
  "metadata": {
    "colab": {
      "name": "Exercise29.ipynb",
      "provenance": [],
      "authorship_tag": "ABX9TyOfCWbRDDR4mphgkqH6kzTa",
      "include_colab_link": true
    },
    "kernelspec": {
      "name": "python3",
      "display_name": "Python 3"
    }
  },
  "cells": [
    {
      "cell_type": "markdown",
      "metadata": {
        "id": "view-in-github",
        "colab_type": "text"
      },
      "source": [
        "<a href=\"https://colab.research.google.com/github/avgode/PythonExercises/blob/master/Exercise29.ipynb\" target=\"_parent\"><img src=\"https://colab.research.google.com/assets/colab-badge.svg\" alt=\"Open In Colab\"/></a>"
      ]
    },
    {
      "cell_type": "code",
      "metadata": {
        "id": "AL2pdFHQKlY8",
        "colab_type": "code",
        "colab": {
          "base_uri": "https://localhost:8080/",
          "height": 102
        },
        "outputId": "35367eee-275d-4a1f-e5ad-9647d48f09eb"
      },
      "source": [
        "people = 20\n",
        "cats = 30 \n",
        "dogs = 15\n",
        "\n",
        "if people < cats:\n",
        "    print(\"Too many cats! The world is doomed!\")\n",
        "if people > cats:\n",
        "    print(\"Not many cats! The world is saved!\")\n",
        "if people < dogs:\n",
        "    print(\"The world is drooled on!\")\n",
        "if people > dogs:\n",
        "    print(\"The world is dry!\")\n",
        "\n",
        "dogs += 5\n",
        "\n",
        "if people >= dogs:\n",
        "  print(\"People are greater than or equal to dogs.\")\n",
        "\n",
        "if people <= dogs:\n",
        "  print(\"People are less than or equal to dogs.\")\n",
        "\n",
        "if people == dogs: print(\"People are dogs.\")\n"
      ],
      "execution_count": 2,
      "outputs": [
        {
          "output_type": "stream",
          "text": [
            "Too many cats! The world is doomed!\n",
            "The world is dry!\n",
            "People are greater than or equal to dogs.\n",
            "People are less than or equal to dogs.\n",
            "People are dogs.\n"
          ],
          "name": "stdout"
        }
      ]
    }
  ]
}