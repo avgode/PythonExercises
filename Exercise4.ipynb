{
  "nbformat": 4,
  "nbformat_minor": 0,
  "metadata": {
    "colab": {
      "name": "Exercise4.ipynb",
      "provenance": [],
      "authorship_tag": "ABX9TyOuQAHQ5OBPtkN734obVNvt",
      "include_colab_link": true
    },
    "kernelspec": {
      "name": "python3",
      "display_name": "Python 3"
    }
  },
  "cells": [
    {
      "cell_type": "markdown",
      "metadata": {
        "id": "view-in-github",
        "colab_type": "text"
      },
      "source": [
        "<a href=\"https://colab.research.google.com/github/avgode/PythonExercises/blob/master/Exercise4.ipynb\" target=\"_parent\"><img src=\"https://colab.research.google.com/assets/colab-badge.svg\" alt=\"Open In Colab\"/></a>"
      ]
    },
    {
      "cell_type": "code",
      "metadata": {
        "id": "O4LXouysKvKx",
        "colab_type": "code",
        "colab": {
          "base_uri": "https://localhost:8080/",
          "height": 119
        },
        "outputId": "6fff830b-ea38-425f-a449-906789ed179b"
      },
      "source": [
        "cars = 100 # Variable cars is assigned with value 100\n",
        "space_in_a_car = 4.0 # Variable space_in_a_car is assigned with value 4.0\n",
        "drivers = 30 # Variable drivers is assigned with value 30\n",
        "passengers = 90 # Variable passengers is assigned with value 90\n",
        "\n",
        "# Depending on avaliable drivers that many cars will be driven & rest stays idle\n",
        "cars_not_driven = cars - drivers \n",
        "cars_driven = drivers\n",
        "\n",
        "# Total carpool capacity will be depending on multiplication of drivable cars &\n",
        "# space in car\n",
        "carpool_capacity = cars_driven * space_in_a_car\n",
        "\n",
        "#Average ppasenger per car will be total passengers divide by drivable cars\n",
        "average_passengers_per_car = passengers / cars_driven\n",
        "\n",
        "print(\"There are\", cars, \"cars available.\")\n",
        "print(\"There are only\", drivers, \"drivers available.\")\n",
        "print(\"There will be\", cars_not_driven, \"empty cars today.\")\n",
        "print(\"We can transport\", carpool_capacity, \"people today.\")\n",
        "print(\"We have\", passengers, \"to carpool today.\")\n",
        "print(\"We need to put about\", average_passengers_per_car, \"in each car.\")"
      ],
      "execution_count": 4,
      "outputs": [
        {
          "output_type": "stream",
          "text": [
            "There are 100 cars available.\n",
            "There are only 30 drivers available.\n",
            "There will be 70 empty cars today.\n",
            "We can transport 120.0 people today.\n",
            "We have 90 to carpool today.\n",
            "We need to put about 3.0 in each car.\n"
          ],
          "name": "stdout"
        }
      ]
    }
  ]
}