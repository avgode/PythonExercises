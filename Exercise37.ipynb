{
  "nbformat": 4,
  "nbformat_minor": 0,
  "metadata": {
    "colab": {
      "name": "Exercise37.ipynb",
      "provenance": [],
      "authorship_tag": "ABX9TyOp6OtR+ZxJvMw+47jFu5jO",
      "include_colab_link": true
    },
    "kernelspec": {
      "name": "python3",
      "display_name": "Python 3"
    }
  },
  "cells": [
    {
      "cell_type": "markdown",
      "metadata": {
        "id": "view-in-github",
        "colab_type": "text"
      },
      "source": [
        "<a href=\"https://colab.research.google.com/github/avgode/PythonExercises/blob/master/Exercise37.ipynb\" target=\"_parent\"><img src=\"https://colab.research.google.com/assets/colab-badge.svg\" alt=\"Open In Colab\"/></a>"
      ]
    },
    {
      "cell_type": "code",
      "metadata": {
        "id": "DEP_ocnJCfr8",
        "colab_type": "code",
        "colab": {
          "base_uri": "https://localhost:8080/",
          "height": 34
        },
        "outputId": "7f8d4078-e0f2-4b6b-fcc4-feb38708fa7f"
      },
      "source": [
        " True and True"
      ],
      "execution_count": 1,
      "outputs": [
        {
          "output_type": "execute_result",
          "data": {
            "text/plain": [
              "True"
            ]
          },
          "metadata": {
            "tags": []
          },
          "execution_count": 1
        }
      ]
    },
    {
      "cell_type": "code",
      "metadata": {
        "id": "9PsY4Ma_ClId",
        "colab_type": "code",
        "colab": {
          "base_uri": "https://localhost:8080/",
          "height": 34
        },
        "outputId": "c8463093-4593-4ff4-ce8a-725eef9b84a2"
      },
      "source": [
        "with open('ex37.txt', 'w+') as file: \n",
        "  file.write('hello world !')\n",
        "  file.seek(0)\n",
        "  print(file.read())\n",
        "\n",
        "# calling file object outside will give exception a file is closed"
      ],
      "execution_count": 17,
      "outputs": [
        {
          "output_type": "stream",
          "text": [
            "hello world !\n"
          ],
          "name": "stdout"
        }
      ]
    },
    {
      "cell_type": "code",
      "metadata": {
        "id": "x4dYkGLZD-eb",
        "colab_type": "code",
        "colab": {
          "base_uri": "https://localhost:8080/",
          "height": 232
        },
        "outputId": "5f8db47e-3127-4adc-be18-80be9f7d8b6b"
      },
      "source": [
        "# initializing number \n",
        "a = 4\n",
        "b = 0\n",
        "\n",
        "# using assert to check for 0 \n",
        "print (\"The value of a / b is : \") \n",
        "assert b != 0, \"Divide by 0 error\"\n",
        "print (a / b)"
      ],
      "execution_count": 27,
      "outputs": [
        {
          "output_type": "stream",
          "text": [
            "The value of a / b is : \n"
          ],
          "name": "stdout"
        },
        {
          "output_type": "error",
          "ename": "AssertionError",
          "evalue": "ignored",
          "traceback": [
            "\u001b[0;31m---------------------------------------------------------------------------\u001b[0m",
            "\u001b[0;31mAssertionError\u001b[0m                            Traceback (most recent call last)",
            "\u001b[0;32m<ipython-input-27-0b3ec1a35657>\u001b[0m in \u001b[0;36m<module>\u001b[0;34m()\u001b[0m\n\u001b[1;32m      4\u001b[0m \u001b[0;31m# using assert to check for 0\u001b[0m\u001b[0;34m\u001b[0m\u001b[0;34m\u001b[0m\u001b[0;34m\u001b[0m\u001b[0m\n\u001b[1;32m      5\u001b[0m \u001b[0mprint\u001b[0m \u001b[0;34m(\u001b[0m\u001b[0;34m\"The value of a / b is : \"\u001b[0m\u001b[0;34m)\u001b[0m\u001b[0;34m\u001b[0m\u001b[0;34m\u001b[0m\u001b[0m\n\u001b[0;32m----> 6\u001b[0;31m \u001b[0;32massert\u001b[0m \u001b[0mb\u001b[0m \u001b[0;34m!=\u001b[0m \u001b[0;36m0\u001b[0m\u001b[0;34m,\u001b[0m \u001b[0;34m\"Divide by 0 error\"\u001b[0m\u001b[0;34m\u001b[0m\u001b[0;34m\u001b[0m\u001b[0m\n\u001b[0m\u001b[1;32m      7\u001b[0m \u001b[0mprint\u001b[0m \u001b[0;34m(\u001b[0m\u001b[0ma\u001b[0m \u001b[0;34m/\u001b[0m \u001b[0mb\u001b[0m\u001b[0;34m)\u001b[0m\u001b[0;34m\u001b[0m\u001b[0;34m\u001b[0m\u001b[0m\n",
            "\u001b[0;31mAssertionError\u001b[0m: Divide by 0 error"
          ]
        }
      ]
    },
    {
      "cell_type": "code",
      "metadata": {
        "id": "qvlP9IEgFE7B",
        "colab_type": "code",
        "colab": {
          "base_uri": "https://localhost:8080/",
          "height": 283
        },
        "outputId": "f5c6a6de-4cf4-4364-b114-4285ff4140ff"
      },
      "source": [
        "# initializing list of foods temperatures \n",
        "batch = [ 40, 26, 39, 30, 25, 21] \n",
        "  \n",
        "# initializing cut temperature \n",
        "cut = 26\n",
        "  \n",
        "# using assert to check for temperature greater than cut \n",
        "for i in batch: \n",
        "    assert i >= 26, \"Batch is Rejected\"\n",
        "    print (str(i) + \" is O.K\" ) "
      ],
      "execution_count": 28,
      "outputs": [
        {
          "output_type": "stream",
          "text": [
            "40 is O.K\n",
            "26 is O.K\n",
            "39 is O.K\n",
            "30 is O.K\n"
          ],
          "name": "stdout"
        },
        {
          "output_type": "error",
          "ename": "AssertionError",
          "evalue": "ignored",
          "traceback": [
            "\u001b[0;31m---------------------------------------------------------------------------\u001b[0m",
            "\u001b[0;31mAssertionError\u001b[0m                            Traceback (most recent call last)",
            "\u001b[0;32m<ipython-input-28-e3fd5e5797d9>\u001b[0m in \u001b[0;36m<module>\u001b[0;34m()\u001b[0m\n\u001b[1;32m      6\u001b[0m \u001b[0;31m# using assert to check for temperature greater than cut\u001b[0m\u001b[0;34m\u001b[0m\u001b[0;34m\u001b[0m\u001b[0;34m\u001b[0m\u001b[0m\n\u001b[1;32m      7\u001b[0m \u001b[0;32mfor\u001b[0m \u001b[0mi\u001b[0m \u001b[0;32min\u001b[0m \u001b[0mbatch\u001b[0m\u001b[0;34m:\u001b[0m\u001b[0;34m\u001b[0m\u001b[0;34m\u001b[0m\u001b[0m\n\u001b[0;32m----> 8\u001b[0;31m     \u001b[0;32massert\u001b[0m \u001b[0mi\u001b[0m \u001b[0;34m>=\u001b[0m \u001b[0;36m26\u001b[0m\u001b[0;34m,\u001b[0m \u001b[0;34m\"Batch is Rejected\"\u001b[0m\u001b[0;34m\u001b[0m\u001b[0;34m\u001b[0m\u001b[0m\n\u001b[0m\u001b[1;32m      9\u001b[0m     \u001b[0mprint\u001b[0m \u001b[0;34m(\u001b[0m\u001b[0mstr\u001b[0m\u001b[0;34m(\u001b[0m\u001b[0mi\u001b[0m\u001b[0;34m)\u001b[0m \u001b[0;34m+\u001b[0m \u001b[0;34m\" is O.K\"\u001b[0m \u001b[0;34m)\u001b[0m\u001b[0;34m\u001b[0m\u001b[0;34m\u001b[0m\u001b[0m\n",
            "\u001b[0;31mAssertionError\u001b[0m: Batch is Rejected"
          ]
        }
      ]
    },
    {
      "cell_type": "code",
      "metadata": {
        "id": "R7EvTGOyHgqp",
        "colab_type": "code",
        "colab": {
          "base_uri": "https://localhost:8080/",
          "height": 68
        },
        "outputId": "d06cd1e3-396a-411b-b63d-6c70ef12ec0c"
      },
      "source": [
        "i = 0\n",
        "while True:\n",
        "  i += 1\n",
        "  if i == 5:\n",
        "    break;\n",
        "  elif i == 2:\n",
        "    continue\n",
        "  else:\n",
        "    pass\n",
        "  print(i)"
      ],
      "execution_count": 36,
      "outputs": [
        {
          "output_type": "stream",
          "text": [
            "1\n",
            "3\n",
            "4\n"
          ],
          "name": "stdout"
        }
      ]
    },
    {
      "cell_type": "code",
      "metadata": {
        "id": "TkelsseGH7tI",
        "colab_type": "code",
        "colab": {
          "base_uri": "https://localhost:8080/",
          "height": 51
        },
        "outputId": "0d55bf0d-90e5-4389-a563-539789dde3ca"
      },
      "source": [
        "x = {1: \"A\", 2: \"B\"}\n",
        "\n",
        "print(\"Before deletion: \", x)\n",
        "\n",
        "del(x[2])\n",
        "\n",
        "print(\"After deletion: \", x)"
      ],
      "execution_count": 39,
      "outputs": [
        {
          "output_type": "stream",
          "text": [
            "Before deletion:  {1: 'A', 2: 'B'}\n",
            "After deletion:  {1: 'A'}\n"
          ],
          "name": "stdout"
        }
      ]
    },
    {
      "cell_type": "code",
      "metadata": {
        "id": "cb_bYj71J422",
        "colab_type": "code",
        "colab": {
          "base_uri": "https://localhost:8080/",
          "height": 68
        },
        "outputId": "231ef7e6-621c-462b-dc1c-57b368946073"
      },
      "source": [
        "class Test(object): \n",
        "    surname = \"Test\"\n",
        "    val = 15\n",
        "    def __init__(self, name): \n",
        "        self.name = name \n",
        "      \n",
        "    def enter_surname(self, surname_1): \n",
        "        surname = surname_1\n",
        "        self.val = 5\n",
        "        return surname\n",
        "\n",
        "test = Test(\"John\")\n",
        "\n",
        "print(test.name,test.surname)\n",
        "\n",
        "print(test.name,test.enter_surname(\"Wright\"))\n",
        "\n",
        "print(test.name,test.surname, test.val)"
      ],
      "execution_count": 76,
      "outputs": [
        {
          "output_type": "stream",
          "text": [
            "John Test\n",
            "John Wright\n",
            "John Test 5\n"
          ],
          "name": "stdout"
        }
      ]
    },
    {
      "cell_type": "code",
      "metadata": {
        "id": "Sd7rkaXfP8Hu",
        "colab_type": "code",
        "colab": {
          "base_uri": "https://localhost:8080/",
          "height": 85
        },
        "outputId": "467fa5dc-75a1-4745-b6f4-5bb6b0ba0e97"
      },
      "source": [
        "val_1 = 5\n",
        "\n",
        "def calc(): \n",
        "  global val_1\n",
        "  print(\"Before calc():\", val_1)\n",
        "  val_1 += 5\n",
        "\n",
        "def calc_1(): \n",
        "  val_1 = 0\n",
        "  val_1 += 1\n",
        "  print(\"Inside calc_1():\", val_1)\n",
        "\n",
        "calc()\n",
        "\n",
        "print(\"After calc():\", val_1)\n",
        "\n",
        "calc_1()\n",
        "\n",
        "print(\"After calc_1():\", val_1)"
      ],
      "execution_count": 85,
      "outputs": [
        {
          "output_type": "stream",
          "text": [
            "Before calc(): 5\n",
            "After calc(): 10\n",
            "Inside calc_1(): 1\n",
            "After calc_1(): 10\n"
          ],
          "name": "stdout"
        }
      ]
    },
    {
      "cell_type": "code",
      "metadata": {
        "id": "uHQ3W733JWWq",
        "colab_type": "code",
        "colab": {
          "base_uri": "https://localhost:8080/",
          "height": 68
        },
        "outputId": "be99e8c9-b3fc-4a53-9df6-8ed893c99517"
      },
      "source": [
        "try: \n",
        "  print(\"In try\")\n",
        "  b / 0\n",
        "except ZeroDivisionError:\n",
        "  print(\"ZeroDivisionError\")\n",
        "except:\n",
        "  print(\"Error\")\n",
        "finally: \n",
        "  print(\"In finally\")"
      ],
      "execution_count": 47,
      "outputs": [
        {
          "output_type": "stream",
          "text": [
            "In try\n",
            "ZeroDivisionError\n",
            "In finally\n"
          ],
          "name": "stdout"
        }
      ]
    },
    {
      "cell_type": "code",
      "metadata": {
        "id": "zOmlEcc1LSVi",
        "colab_type": "code",
        "colab": {
          "base_uri": "https://localhost:8080/",
          "height": 34
        },
        "outputId": "4aea1410-23ca-47a9-a801-44151cef4777"
      },
      "source": [
        "exec('print(\"The sum of 5 and 10 is\", 5 + 10)') "
      ],
      "execution_count": 53,
      "outputs": [
        {
          "output_type": "stream",
          "text": [
            "The sum of 5 and 10 is 15\n"
          ],
          "name": "stdout"
        }
      ]
    },
    {
      "cell_type": "code",
      "metadata": {
        "id": "BbM-KdgiQ3zh",
        "colab_type": "code",
        "colab": {
          "base_uri": "https://localhost:8080/",
          "height": 34
        },
        "outputId": "27a6ab41-aa53-494d-faed-e98217bf118c"
      },
      "source": [
        "1 is 1 == True"
      ],
      "execution_count": 87,
      "outputs": [
        {
          "output_type": "execute_result",
          "data": {
            "text/plain": [
              "True"
            ]
          },
          "metadata": {
            "tags": []
          },
          "execution_count": 87
        }
      ]
    },
    {
      "cell_type": "code",
      "metadata": {
        "id": "FjyDJeDjREOk",
        "colab_type": "code",
        "colab": {
          "base_uri": "https://localhost:8080/",
          "height": 34
        },
        "outputId": "31d2fa2a-eb86-4df4-b29c-542cb366ae00"
      },
      "source": [
        "# List Comprehension\n",
        "print([i**2 for i in range(10)])"
      ],
      "execution_count": 88,
      "outputs": [
        {
          "output_type": "stream",
          "text": [
            "[0, 1, 4, 9, 16, 25, 36, 49, 64, 81]\n"
          ],
          "name": "stdout"
        }
      ]
    },
    {
      "cell_type": "code",
      "metadata": {
        "id": "0imAnQFXRSZA",
        "colab_type": "code",
        "colab": {
          "base_uri": "https://localhost:8080/",
          "height": 51
        },
        "outputId": "53969520-ba21-44bb-ecb5-d1086b6c2f2a"
      },
      "source": [
        "# Python code to illustrate cube of a number  \n",
        "# showing difference between def() and lambda(). \n",
        "def cube(y): \n",
        "    return y*y*y; \n",
        "\n",
        "print(cube(5)) \n",
        "\n",
        "g = lambda x: x*x*x \n",
        "print(g(5)) "
      ],
      "execution_count": 90,
      "outputs": [
        {
          "output_type": "stream",
          "text": [
            "125\n",
            "125\n"
          ],
          "name": "stdout"
        }
      ]
    },
    {
      "cell_type": "code",
      "metadata": {
        "id": "9UvYYvfhSJ91",
        "colab_type": "code",
        "colab": {
          "base_uri": "https://localhost:8080/",
          "height": 51
        },
        "outputId": "6d3bc78a-fd58-4ce7-b0d2-6662dd826baa"
      },
      "source": [
        "# Program to depict else clause with try-except \n",
        "  \n",
        "# Function which returns a/b \n",
        "def AbyB(a , b): \n",
        "    try: \n",
        "        c = ((a+b) / (a-b)) \n",
        "    except ZeroDivisionError: \n",
        "        print(\"a/b result in 0\")\n",
        "    else: \n",
        "        print(c) \n",
        "  \n",
        "# Driver program to test above function \n",
        "AbyB(2.0, 3.0) \n",
        "AbyB(3.0, 3.0)"
      ],
      "execution_count": 92,
      "outputs": [
        {
          "output_type": "stream",
          "text": [
            "-5.0\n",
            "a/b result in 0\n"
          ],
          "name": "stdout"
        }
      ]
    },
    {
      "cell_type": "code",
      "metadata": {
        "id": "rEOVPlFNSXCe",
        "colab_type": "code",
        "colab": {
          "base_uri": "https://localhost:8080/",
          "height": 334
        },
        "outputId": "10d9a1ca-50e8-4ed7-dbaf-ce4fdae9ab35"
      },
      "source": [
        "# Program to depict else clause with try-except \n",
        "  \n",
        "# Function which returns a/b \n",
        "def AbyB(a , b): \n",
        "    try: \n",
        "        if b == 0:\n",
        "          raise ZeroDivisionError(\"Denominator can't be zero\")  # Raise Error\n",
        "        c = a / b\n",
        "    except(ZeroDivisionError, NameError) as e: \n",
        "        print(str(e))\n",
        "        raise\n",
        "    except:\n",
        "      print(\"Error\")\n",
        "\n",
        "AbyB(2.0, 0) "
      ],
      "execution_count": 122,
      "outputs": [
        {
          "output_type": "stream",
          "text": [
            "Denominator can't be zero\n"
          ],
          "name": "stdout"
        },
        {
          "output_type": "error",
          "ename": "ZeroDivisionError",
          "evalue": "ignored",
          "traceback": [
            "\u001b[0;31m---------------------------------------------------------------------------\u001b[0m",
            "\u001b[0;31mZeroDivisionError\u001b[0m                         Traceback (most recent call last)",
            "\u001b[0;32m<ipython-input-122-6d722c480c57>\u001b[0m in \u001b[0;36m<module>\u001b[0;34m()\u001b[0m\n\u001b[1;32m     10\u001b[0m       \u001b[0mprint\u001b[0m\u001b[0;34m(\u001b[0m\u001b[0;34m\"Error\"\u001b[0m\u001b[0;34m)\u001b[0m\u001b[0;34m\u001b[0m\u001b[0;34m\u001b[0m\u001b[0m\n\u001b[1;32m     11\u001b[0m \u001b[0;34m\u001b[0m\u001b[0m\n\u001b[0;32m---> 12\u001b[0;31m \u001b[0mAbyB\u001b[0m\u001b[0;34m(\u001b[0m\u001b[0;36m2.0\u001b[0m\u001b[0;34m,\u001b[0m \u001b[0;36m0\u001b[0m\u001b[0;34m)\u001b[0m\u001b[0;34m\u001b[0m\u001b[0;34m\u001b[0m\u001b[0m\n\u001b[0m",
            "\u001b[0;32m<ipython-input-122-6d722c480c57>\u001b[0m in \u001b[0;36mAbyB\u001b[0;34m(a, b)\u001b[0m\n\u001b[1;32m      2\u001b[0m     \u001b[0;32mtry\u001b[0m\u001b[0;34m:\u001b[0m\u001b[0;34m\u001b[0m\u001b[0;34m\u001b[0m\u001b[0m\n\u001b[1;32m      3\u001b[0m         \u001b[0;32mif\u001b[0m \u001b[0mb\u001b[0m \u001b[0;34m==\u001b[0m \u001b[0;36m0\u001b[0m\u001b[0;34m:\u001b[0m\u001b[0;34m\u001b[0m\u001b[0;34m\u001b[0m\u001b[0m\n\u001b[0;32m----> 4\u001b[0;31m           \u001b[0;32mraise\u001b[0m \u001b[0mZeroDivisionError\u001b[0m\u001b[0;34m(\u001b[0m\u001b[0;34m\"Denominator can't be zero\"\u001b[0m\u001b[0;34m)\u001b[0m  \u001b[0;31m# Raise Error\u001b[0m\u001b[0;34m\u001b[0m\u001b[0;34m\u001b[0m\u001b[0m\n\u001b[0m\u001b[1;32m      5\u001b[0m         \u001b[0mc\u001b[0m \u001b[0;34m=\u001b[0m \u001b[0ma\u001b[0m \u001b[0;34m/\u001b[0m \u001b[0mb\u001b[0m\u001b[0;34m\u001b[0m\u001b[0;34m\u001b[0m\u001b[0m\n\u001b[1;32m      6\u001b[0m     \u001b[0;32mexcept\u001b[0m\u001b[0;34m(\u001b[0m\u001b[0mZeroDivisionError\u001b[0m\u001b[0;34m,\u001b[0m \u001b[0mNameError\u001b[0m\u001b[0;34m)\u001b[0m \u001b[0;32mas\u001b[0m \u001b[0me\u001b[0m\u001b[0;34m:\u001b[0m\u001b[0;34m\u001b[0m\u001b[0;34m\u001b[0m\u001b[0m\n",
            "\u001b[0;31mZeroDivisionError\u001b[0m: Denominator can't be zero"
          ]
        }
      ]
    },
    {
      "cell_type": "code",
      "metadata": {
        "id": "ozZ2xpCvWgIw",
        "colab_type": "code",
        "colab": {
          "base_uri": "https://localhost:8080/",
          "height": 68
        },
        "outputId": "61cde5fa-f20f-4527-c993-52c1dc2bc404"
      },
      "source": [
        "# A Simple Python program to demonstrate working \n",
        "# of yield \n",
        "  \n",
        "# A generator function that yields 1 for the first time, \n",
        "# 2 second time and 3 third time \n",
        "def simpleGeneratorFun(): \n",
        "    yield 10\n",
        "    yield 2\n",
        "    yield 3\n",
        "  \n",
        "# Driver code to check above generator function \n",
        "for value in simpleGeneratorFun():  \n",
        "    print(value) "
      ],
      "execution_count": 125,
      "outputs": [
        {
          "output_type": "stream",
          "text": [
            "10\n",
            "2\n",
            "3\n"
          ],
          "name": "stdout"
        }
      ]
    },
    {
      "cell_type": "code",
      "metadata": {
        "id": "vQ6F_eWtWQ9l",
        "colab_type": "code",
        "colab": {
          "base_uri": "https://localhost:8080/",
          "height": 187
        },
        "outputId": "6cbe32f6-a88a-4fbc-b3a7-175dd2c7ec27"
      },
      "source": [
        "# A Python program to generate squares from 1 \n",
        "# to 100 using yield and therefore generator \n",
        "  \n",
        "# An infinite generator function that prints \n",
        "# next square number. It starts with 1 \n",
        "def nextSquare(): \n",
        "    i = 1; \n",
        "  \n",
        "    # An Infinite loop to generate squares  \n",
        "    while True: \n",
        "        yield i*i                 \n",
        "        i += 1  # Next execution resumes  \n",
        "                # from this point      \n",
        "  \n",
        "# Driver code to test above generator  \n",
        "# function \n",
        "for num in nextSquare(): \n",
        "    if num > 100: \n",
        "         break    \n",
        "    print(num) "
      ],
      "execution_count": 123,
      "outputs": [
        {
          "output_type": "stream",
          "text": [
            "1\n",
            "4\n",
            "9\n",
            "16\n",
            "25\n",
            "36\n",
            "49\n",
            "64\n",
            "81\n",
            "100\n"
          ],
          "name": "stdout"
        }
      ]
    },
    {
      "cell_type": "code",
      "metadata": {
        "id": "erDTWJc2Wx0o",
        "colab_type": "code",
        "colab": {
          "base_uri": "https://localhost:8080/",
          "height": 289
        },
        "outputId": "ed8104ad-0fa1-4df6-adb7-aced23016816"
      },
      "source": [
        "print(\"%d\" % 45 == '45') # Decimal integers (not floating point)\n",
        "print(\"%i\" % 45 == '45') # Decimal integers (not floating point)\n",
        "print(\"%o\" % 1000 == '1750') # Octal number\n",
        "print(\"%u\" % -1000 == '-1000') # Unsigned decimal\n",
        "print(\"%x\" % 1000 == '3e8') # Hexadecimal lowercase\n",
        "print(\"%X\" % 1000 == '3E8') # Hexadecimal uppercase\n",
        "print(\"%e\" % 1000 == '1.000000e+03') # Exponential notation lowercase 'e'\n",
        "print(\"%E\" % 1000 == '1.000000E+03') # Exponential notation uppercase 'E'\n",
        "print(\"%f\" % 10.34 == '10.340000' ) # Floating point real number\n",
        "print(\"%F\" % 10.34 == '10.340000' ) # Floating point real number\n",
        "print(\"%g\" % 10.34 == '10.34' ) # Enter %f or %e whiever is shorter in lowercase\n",
        "print(\"%G\" % 10.34 == '10.34') # Enter %F or %E whiever is shorter in uppercase\n",
        "print(\"%c\" % 34 == '\"') # Character format\n",
        "print(\"%r\" % int == \"<class 'int'>\") # Repr format (debugging format)\n",
        "print(\"%s there\" % 'hi' == 'hi there') # String format\n",
        "print(\"%g%%\" % 10.34 == '10.34%') # A percent sign"
      ],
      "execution_count": 144,
      "outputs": [
        {
          "output_type": "stream",
          "text": [
            "True\n",
            "True\n",
            "True\n",
            "True\n",
            "True\n",
            "True\n",
            "True\n",
            "True\n",
            "True\n",
            "True\n",
            "True\n",
            "True\n",
            "True\n",
            "True\n",
            "True\n",
            "True\n"
          ],
          "name": "stdout"
        }
      ]
    }
  ]
}