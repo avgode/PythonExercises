{
  "nbformat": 4,
  "nbformat_minor": 0,
  "metadata": {
    "colab": {
      "name": "Exercise31.ipynb",
      "provenance": [],
      "authorship_tag": "ABX9TyOFPPPQhdosNjk3h7kfrd7M",
      "include_colab_link": true
    },
    "kernelspec": {
      "name": "python3",
      "display_name": "Python 3"
    }
  },
  "cells": [
    {
      "cell_type": "markdown",
      "metadata": {
        "id": "view-in-github",
        "colab_type": "text"
      },
      "source": [
        "<a href=\"https://colab.research.google.com/github/avgode/PythonExercises/blob/master/Exercise31.ipynb\" target=\"_parent\"><img src=\"https://colab.research.google.com/assets/colab-badge.svg\" alt=\"Open In Colab\"/></a>"
      ]
    },
    {
      "cell_type": "code",
      "metadata": {
        "id": "aKpRctSBPVhJ",
        "colab_type": "code",
        "colab": {
          "base_uri": "https://localhost:8080/",
          "height": 221
        },
        "outputId": "a7b1e291-accb-453e-c681-ef6bac8b0a7c"
      },
      "source": [
        "print(\"\"\"\n",
        "You enter a dark room with two doors.\n",
        "Do you go through door #1 or door #2?\n",
        "\"\"\")\n",
        "\n",
        "door = input(\"> \")\n",
        "\n",
        "if door == \"1\":\n",
        "  print(\"There's a giant bear here eating a cheese cake.\")\n",
        "  print(\"What do you do?\")\n",
        "  print(\"1. Take the cake.\")\n",
        "  print(\"2. Scream at the bear.\")\n",
        "\n",
        "  bear = input(\"> \")\n",
        "\n",
        "  if bear == \"1\":\n",
        "    print(\"The bear eats your face off. Good job!\")\n",
        "  elif bear == \"2\":\n",
        "    print(\"The bear eats your legs off. Good job!\")\n",
        "  else:\n",
        "    print(f\"Well, doing {bear} is probably better.\")\n",
        "    print(\"Bear runs away.\")\n",
        "elif door == \"2\":\n",
        "  print(\"You stare into the endless abyss at Cthulhu's retina.\")\n",
        "  print(\"1. Blueberries.\")\n",
        "  print(\"2. Yellow jacket clothespins.\")\n",
        "  print(\"3. Understanding revolvers yelling melodies.\")\n",
        "\n",
        "  insanity = input(\"> \")\n",
        "\n",
        "  if insanity == \"1\" or insanity == \"2\":\n",
        "    print(\"Your body survives powered by a mind of jello.\")\n",
        "    print(\"Good job!\")\n",
        "  else:\n",
        "    print(\"The insanity rots your eyes into a pool of muck.\")\n",
        "    print(\"Good job!\")\n",
        "else:\n",
        "  print(\"You stumble around and fall on a knife and die. Good job!\")"
      ],
      "execution_count": 12,
      "outputs": [
        {
          "output_type": "stream",
          "text": [
            "\n",
            "You enter a dark room with two doors.\n",
            "Do you go through door #1 or door #2?\n",
            "\n",
            "> 2\n",
            "You stare into the endless abyss at Cthulhu's retina.\n",
            "1. Blueberries.\n",
            "2. Yellow jacket clothespins.\n",
            "3. Understanding revolvers yelling melodies.\n",
            "> 1\n",
            "Your body survives powered by a mind of jello.\n",
            "Good job!\n"
          ],
          "name": "stdout"
        }
      ]
    }
  ]
}