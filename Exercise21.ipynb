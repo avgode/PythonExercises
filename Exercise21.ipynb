{
  "nbformat": 4,
  "nbformat_minor": 0,
  "metadata": {
    "colab": {
      "name": "Exercise21.ipynb",
      "provenance": [],
      "authorship_tag": "ABX9TyMY+Bfv7b0ipp6PW81c7s1D",
      "include_colab_link": true
    },
    "kernelspec": {
      "name": "python3",
      "display_name": "Python 3"
    }
  },
  "cells": [
    {
      "cell_type": "markdown",
      "metadata": {
        "id": "view-in-github",
        "colab_type": "text"
      },
      "source": [
        "<a href=\"https://colab.research.google.com/github/avgode/PythonExercises/blob/master/Exercise21.ipynb\" target=\"_parent\"><img src=\"https://colab.research.google.com/assets/colab-badge.svg\" alt=\"Open In Colab\"/></a>"
      ]
    },
    {
      "cell_type": "code",
      "metadata": {
        "id": "iQe8DezVQwRd",
        "colab_type": "code",
        "colab": {
          "base_uri": "https://localhost:8080/",
          "height": 238
        },
        "outputId": "73b52016-5dad-4b28-a01f-9c61d77cc3a9"
      },
      "source": [
        "def add(a, b):\n",
        "  print(f\"ADDING {a} + {b}\")\n",
        "  return a+b\n",
        "\n",
        "def subtract(a, b):\n",
        "  print(f\"SUBTRACTING {a} - {b}\")\n",
        "  return a-b\n",
        "\n",
        "def multiply(a, b):\n",
        "  print(f\"MULTIPLYING {a} * {b}\")\n",
        "  return a*b\n",
        "\n",
        "def divide(a, b):\n",
        "  print(f\"DIVIDING {a} / {b}\")\n",
        "  return a/b\n",
        "\n",
        "print(\"Let's do some math with just functions!\")\n",
        "\n",
        "age = add(30, 5)\n",
        "height = subtract(78, 4)\n",
        "weight = multiply(90, 2)\n",
        "iq = divide(100, 2)\n",
        "\n",
        "print(f\"Age: {age}, Height: {height}, Weight: {weight}, IQ: {iq}\")\n",
        "\n",
        "# A puzzle for the extra credit, type it in anyway.\n",
        "print(\"Here is a puzzle.\")\n",
        "\n",
        "what = add(age, subtract(height, multiply(weight, divide(iq, 2))))\n",
        "print(\"That becomes: \", what, \"Can you do it by hand?\")"
      ],
      "execution_count": 6,
      "outputs": [
        {
          "output_type": "stream",
          "text": [
            "Let's do some math with just functions!\n",
            "ADDING 30 + 5\n",
            "SUBTRACTING 78 - 4\n",
            "MULTIPLYING 90 * 2\n",
            "DIVIDING 100 / 2\n",
            "Age: 35, Height: 74, Weight: 180, IQ: 50.0\n",
            "Here is a puzzle.\n",
            "DIVIDING 50.0 / 2\n",
            "MULTIPLYING 180 * 25.0\n",
            "SUBTRACTING 74 - 4500.0\n",
            "ADDING 35 + -4426.0\n",
            "That becomes:  -4391.0 Can you do it by hand?\n",
            "ERROR! Session/line number was not unique in database. History logging moved to new session 60\n"
          ],
          "name": "stdout"
        }
      ]
    }
  ]
}