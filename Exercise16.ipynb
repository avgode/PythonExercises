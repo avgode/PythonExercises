{
  "nbformat": 4,
  "nbformat_minor": 0,
  "metadata": {
    "colab": {
      "name": "Exercise16.ipynb",
      "provenance": [],
      "authorship_tag": "ABX9TyOOk0z4mgVHRglQEjYxckze",
      "include_colab_link": true
    },
    "kernelspec": {
      "name": "python3",
      "display_name": "Python 3"
    }
  },
  "cells": [
    {
      "cell_type": "markdown",
      "metadata": {
        "id": "view-in-github",
        "colab_type": "text"
      },
      "source": [
        "<a href=\"https://colab.research.google.com/github/avgode/PythonExercises/blob/master/Exercise16.ipynb\" target=\"_parent\"><img src=\"https://colab.research.google.com/assets/colab-badge.svg\" alt=\"Open In Colab\"/></a>"
      ]
    },
    {
      "cell_type": "code",
      "metadata": {
        "id": "lpOCPK-_2KJo",
        "colab_type": "code",
        "colab": {
          "base_uri": "https://localhost:8080/",
          "height": 459
        },
        "outputId": "6a06af0a-88d4-49ef-8360-b189866cbb25"
      },
      "source": [
        "# from sys import argv\n",
        "\n",
        "# script, filename = argv\n",
        "filename = input(\"Enter filename:\")\n",
        "\n",
        "print(f\"We're going to erase {filename}.\")\n",
        "print(\"If you don't want that, hit CTRL-D (^D).\")\n",
        "print(\"If you do want that, hit RETURN.\")\n",
        "\n",
        "input(\"?\")\n",
        "\n",
        "print(\"Opening the file...\")\n",
        "target = open(filename, 'a') # open file in append mode\n",
        "\n",
        "txt_read = open(filename, 'r')\n",
        "print(\"File contents before truncate are:\")\n",
        "print(txt_read.read())\n",
        "\n",
        "print(\"Truncating the file. Goodbye!\")\n",
        "# Since file open in append mode, it goes to end of stream\n",
        "# and truncate will not able to erase it. So bringing the stream to start. \n",
        "target.seek(0) \n",
        "target.truncate()\n",
        "\n",
        "print(\"File contents after truncate are:\")\n",
        "print(txt_read.read())\n",
        "\n",
        "print(\"Now I'm going to ask you for three lines.\")\n",
        "line1 = input(\"line 1:\")\n",
        "line2 = input(\"line 2:\")\n",
        "line3 = input(\"line 3:\")\n",
        "\n",
        "print(\"I'm going to write these to the file.\")\n",
        "\n",
        "target.write(line1)\n",
        "target.write(\"\\n\")\n",
        "target.write(line2)\n",
        "target.write(\"\\n\")\n",
        "target.write(line3)\n",
        "target.write(\"\\n\")\n",
        "\n",
        "print(\"And finally, we close it for write.\")\n",
        "target.close()\n",
        "\n",
        "txt_read = open(filename, 'r')\n",
        "print(\"File contents after new write are:\")\n",
        "print(txt_read.read())\n",
        "\n",
        "print(\"And finally, we close it for read.\")\n",
        "txt_read.close()"
      ],
      "execution_count": 20,
      "outputs": [
        {
          "output_type": "stream",
          "text": [
            "Enter filename:Ex16.txt\n",
            "We're going to erase Ex16.txt.\n",
            "If you don't want that, hit CTRL-D (^D).\n",
            "If you do want that, hit RETURN.\n",
            "?\n",
            "Opening the file...\n",
            "File contents before truncate are:\n",
            "1\n",
            "2\n",
            "\n",
            "\n",
            "Truncating the file. Goodbye!\n",
            "File contents after truncate are:\n",
            "\n",
            "Now I'm going to ask you for three lines.\n",
            "line 1:22\n",
            "line 2:23\n",
            "line 3:24\n",
            "I'm going to write these to the file.\n",
            "And finally, we close it for write.\n",
            "File contents after new write are:\n",
            "22\n",
            "23\n",
            "24\n",
            "\n",
            "And finally, we close it for read.\n"
          ],
          "name": "stdout"
        }
      ]
    }
  ]
}