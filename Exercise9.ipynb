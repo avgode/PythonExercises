{
  "nbformat": 4,
  "nbformat_minor": 0,
  "metadata": {
    "colab": {
      "name": "Exercise9.ipynb",
      "provenance": [],
      "authorship_tag": "ABX9TyMnGZwzmeg5a24RV84f+A9G",
      "include_colab_link": true
    },
    "kernelspec": {
      "name": "python3",
      "display_name": "Python 3"
    }
  },
  "cells": [
    {
      "cell_type": "markdown",
      "metadata": {
        "id": "view-in-github",
        "colab_type": "text"
      },
      "source": [
        "<a href=\"https://colab.research.google.com/github/avgode/PythonExercises/blob/master/Exercise9.ipynb\" target=\"_parent\"><img src=\"https://colab.research.google.com/assets/colab-badge.svg\" alt=\"Open In Colab\"/></a>"
      ]
    },
    {
      "cell_type": "code",
      "metadata": {
        "id": "nCFOigh7zryk",
        "colab_type": "code",
        "colab": {
          "base_uri": "https://localhost:8080/",
          "height": 357
        },
        "outputId": "07f8d9a9-a3d1-433f-865c-85f1fd2e9f0f"
      },
      "source": [
        "days = \"Mon Tue Wed Thu Fri Sat Sun\"\n",
        "months = \"Jan\\nFeb\\nMarch\\nApril\\nMay\\nJune]\\nJuly\\nAug\\nSept\\nOct\\nNov\\nDec\"\n",
        "\n",
        "print(\"Here are the days:\",days)\n",
        "print(\"Here are the months:\",months)\n",
        "\n",
        "print(\"\"\"\n",
        "There's something going on here.\n",
        "With the three double-quotes.\n",
        "We'll be able to type as much as we like.\n",
        "Even 4 lines if we want, or 5, or 6.\n",
        "\"\"\")"
      ],
      "execution_count": 9,
      "outputs": [
        {
          "output_type": "stream",
          "text": [
            "Here are the days: Mon Tue Wed Thu Fri Sat Sun\n",
            "Here are the months: Jan\n",
            "Feb\n",
            "March\n",
            "April\n",
            "May\n",
            "June]\n",
            "July\n",
            "Aug\n",
            "Sept\n",
            "Oct\n",
            "Nov\n",
            "Dec\n",
            "\n",
            "There's something going on here.\n",
            "With the three double-quotes.\n",
            "We'll be able to type as much as we like.\n",
            "Even 4 lines if we want, or 5, or 6.\n",
            "\n",
            "ERROR! Session/line number was not unique in database. History logging moved to new session 63\n"
          ],
          "name": "stdout"
        }
      ]
    }
  ]
}